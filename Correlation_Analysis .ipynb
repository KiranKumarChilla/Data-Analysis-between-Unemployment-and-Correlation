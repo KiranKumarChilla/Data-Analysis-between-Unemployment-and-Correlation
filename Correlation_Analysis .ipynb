{
 "cells": [
  {
   "cell_type": "code",
   "execution_count": 106,
   "metadata": {},
   "outputs": [],
   "source": [
    "import pandas as pd\n",
    "%matplotlib inline\n",
    "import matplotlib.pyplot as plt\n",
    "import seaborn as sns\n",
    "import numpy as np"
   ]
  },
  {
   "cell_type": "markdown",
   "metadata": {},
   "source": [
    "## Unemploymentdataset"
   ]
  },
  {
   "cell_type": "code",
   "execution_count": 108,
   "metadata": {},
   "outputs": [],
   "source": [
    "unemp_df = pd.read_excel('C:\\\\Users\\\\kiran\\\\OneDrive\\\\Desktop\\\\New folder\\\\Jobs_work\\\\Jobs_work\\\\Lehigh Datasets\\\\Unemployment\\\\Unemployment.xls')\n",
    "# unemp_df.info()"
   ]
  },
  {
   "cell_type": "code",
   "execution_count": 109,
   "metadata": {},
   "outputs": [
    {
     "name": "stdout",
     "output_type": "stream",
     "text": [
      "<class 'pandas.core.frame.DataFrame'>\n",
      "RangeIndex: 3275 entries, 7 to 3281\n",
      "Data columns (total 52 columns):\n",
      "FIPStxt                                      3275 non-null object\n",
      "State                                        3275 non-null object\n",
      "Area_name                                    3275 non-null object\n",
      "Rural_urban_continuum_code_2013              3219 non-null object\n",
      "Urban_influence_code_2013                    3219 non-null object\n",
      "Metro_2013                                   3222 non-null object\n",
      "Civilian_labor_force_2007                    3270 non-null object\n",
      "Employed_2007                                3270 non-null object\n",
      "Unemployed_2007                              3270 non-null object\n",
      "Unemployment_rate_2007                       3270 non-null object\n",
      "Civilian_labor_force_2008                    3270 non-null object\n",
      "Employed_2008                                3270 non-null object\n",
      "Unemployed_2008                              3270 non-null object\n",
      "Unemployment_rate_2008                       3270 non-null object\n",
      "Civilian_labor_force_2009                    3270 non-null object\n",
      "Employed_2009                                3270 non-null object\n",
      "Unemployed_2009                              3270 non-null object\n",
      "Unemployment_rate_2009                       3270 non-null object\n",
      "Civilian_labor_force_2010                    3272 non-null object\n",
      "Employed_2010                                3272 non-null object\n",
      "Unemployed_2010                              3272 non-null object\n",
      "Unemployment_rate_2010                       3272 non-null object\n",
      "Civilian_labor_force_2011                    3272 non-null object\n",
      "Employed_2011                                3272 non-null object\n",
      "Unemployed_2011                              3272 non-null object\n",
      "Unemployment_rate_2011                       3272 non-null object\n",
      "Civilian_labor_force_2012                    3272 non-null object\n",
      "Employed_2012                                3272 non-null object\n",
      "Unemployed_2012                              3272 non-null object\n",
      "Unemployment_rate_2012                       3272 non-null object\n",
      "Civilian_labor_force_2013                    3272 non-null object\n",
      "Employed_2013                                3272 non-null object\n",
      "Unemployed_2013                              3272 non-null object\n",
      "Unemployment_rate_2013                       3272 non-null object\n",
      "Civilian_labor_force_2014                    3272 non-null object\n",
      "Employed_2014                                3272 non-null object\n",
      "Unemployed_2014                              3272 non-null object\n",
      "Unemployment_rate_2014                       3272 non-null object\n",
      "Civilian_labor_force_2015                    3272 non-null object\n",
      "Employed_2015                                3272 non-null object\n",
      "Unemployed_2015                              3272 non-null object\n",
      "Unemployment_rate_2015                       3272 non-null object\n",
      "Civilian_labor_force_2016                    3272 non-null object\n",
      "Employed_2016                                3272 non-null object\n",
      "Unemployed_2016                              3272 non-null object\n",
      "Unemployment_rate_2016                       3272 non-null object\n",
      "Civilian_labor_force_2017                    3272 non-null object\n",
      "Employed_2017                                3272 non-null object\n",
      "Unemployed_2017                              3272 non-null object\n",
      "Unemployment_rate_2017                       3272 non-null object\n",
      "Median_Household_Income_2016                 3193 non-null object\n",
      "Med_HH_Income_Percent_of_State_Total_2016    3192 non-null object\n",
      "dtypes: object(52)\n",
      "memory usage: 1.3+ MB\n"
     ]
    }
   ],
   "source": [
    "# processing unemployment dataset\n",
    "unemp_df = unemp_df[6:]\n",
    "\n",
    "\n",
    "unemp_df.columns = unemp_df.iloc[0]\n",
    "\n",
    "unemp_df = unemp_df[1:]\n",
    "\n",
    "unemp_df.info()\n"
   ]
  },
  {
   "cell_type": "code",
   "execution_count": 110,
   "metadata": {},
   "outputs": [
    {
     "data": {
      "text/html": [
       "<div>\n",
       "<style scoped>\n",
       "    .dataframe tbody tr th:only-of-type {\n",
       "        vertical-align: middle;\n",
       "    }\n",
       "\n",
       "    .dataframe tbody tr th {\n",
       "        vertical-align: top;\n",
       "    }\n",
       "\n",
       "    .dataframe thead th {\n",
       "        text-align: right;\n",
       "    }\n",
       "</style>\n",
       "<table border=\"1\" class=\"dataframe\">\n",
       "  <thead>\n",
       "    <tr style=\"text-align: right;\">\n",
       "      <th></th>\n",
       "      <th>FIPStxt</th>\n",
       "      <th>State</th>\n",
       "      <th>Area_name</th>\n",
       "      <th>Rural_urban_continuum_code_2013</th>\n",
       "      <th>Urban_influence_code_2013</th>\n",
       "      <th>Metro_2013</th>\n",
       "      <th>Unemployment_rate_2012</th>\n",
       "      <th>Unemployment_rate_2013</th>\n",
       "      <th>Unemployment_rate_2014</th>\n",
       "      <th>Unemployment_rate_2015</th>\n",
       "      <th>Unemployment_rate_2016</th>\n",
       "      <th>Med_HH_Income_Percent_of_State_Total_2016</th>\n",
       "    </tr>\n",
       "  </thead>\n",
       "  <tbody>\n",
       "    <tr>\n",
       "      <th>7</th>\n",
       "      <td>00000</td>\n",
       "      <td>US</td>\n",
       "      <td>United States</td>\n",
       "      <td>NaN</td>\n",
       "      <td>NaN</td>\n",
       "      <td>NaN</td>\n",
       "      <td>8.07036</td>\n",
       "      <td>7.37523</td>\n",
       "      <td>6.16821</td>\n",
       "      <td>5.28368</td>\n",
       "      <td>4.86919</td>\n",
       "      <td>NaN</td>\n",
       "    </tr>\n",
       "    <tr>\n",
       "      <th>8</th>\n",
       "      <td>01000</td>\n",
       "      <td>AL</td>\n",
       "      <td>Alabama</td>\n",
       "      <td>NaN</td>\n",
       "      <td>NaN</td>\n",
       "      <td>NaN</td>\n",
       "      <td>8</td>\n",
       "      <td>7.2</td>\n",
       "      <td>6.8</td>\n",
       "      <td>6.1</td>\n",
       "      <td>5.9</td>\n",
       "      <td>100</td>\n",
       "    </tr>\n",
       "    <tr>\n",
       "      <th>9</th>\n",
       "      <td>01001</td>\n",
       "      <td>AL</td>\n",
       "      <td>Autauga County, AL</td>\n",
       "      <td>2</td>\n",
       "      <td>2</td>\n",
       "      <td>1</td>\n",
       "      <td>6.9</td>\n",
       "      <td>6.2</td>\n",
       "      <td>5.8</td>\n",
       "      <td>5.2</td>\n",
       "      <td>5.1</td>\n",
       "      <td>117.7</td>\n",
       "    </tr>\n",
       "    <tr>\n",
       "      <th>10</th>\n",
       "      <td>01003</td>\n",
       "      <td>AL</td>\n",
       "      <td>Baldwin County, AL</td>\n",
       "      <td>3</td>\n",
       "      <td>2</td>\n",
       "      <td>1</td>\n",
       "      <td>7.5</td>\n",
       "      <td>6.6</td>\n",
       "      <td>6.1</td>\n",
       "      <td>5.5</td>\n",
       "      <td>5.4</td>\n",
       "      <td>121.9</td>\n",
       "    </tr>\n",
       "    <tr>\n",
       "      <th>11</th>\n",
       "      <td>01005</td>\n",
       "      <td>AL</td>\n",
       "      <td>Barbour County, AL</td>\n",
       "      <td>6</td>\n",
       "      <td>6</td>\n",
       "      <td>0</td>\n",
       "      <td>11.5</td>\n",
       "      <td>10.2</td>\n",
       "      <td>10.5</td>\n",
       "      <td>8.9</td>\n",
       "      <td>8.4</td>\n",
       "      <td>71</td>\n",
       "    </tr>\n",
       "  </tbody>\n",
       "</table>\n",
       "</div>"
      ],
      "text/plain": [
       "   FIPStxt State           Area_name Rural_urban_continuum_code_2013  \\\n",
       "7    00000    US       United States                             NaN   \n",
       "8    01000    AL             Alabama                             NaN   \n",
       "9    01001    AL  Autauga County, AL                               2   \n",
       "10   01003    AL  Baldwin County, AL                               3   \n",
       "11   01005    AL  Barbour County, AL                               6   \n",
       "\n",
       "   Urban_influence_code_2013 Metro_2013 Unemployment_rate_2012  \\\n",
       "7                        NaN        NaN                8.07036   \n",
       "8                        NaN        NaN                      8   \n",
       "9                          2          1                    6.9   \n",
       "10                         2          1                    7.5   \n",
       "11                         6          0                   11.5   \n",
       "\n",
       "   Unemployment_rate_2013 Unemployment_rate_2014 Unemployment_rate_2015  \\\n",
       "7                 7.37523                6.16821                5.28368   \n",
       "8                     7.2                    6.8                    6.1   \n",
       "9                     6.2                    5.8                    5.2   \n",
       "10                    6.6                    6.1                    5.5   \n",
       "11                   10.2                   10.5                    8.9   \n",
       "\n",
       "   Unemployment_rate_2016 Med_HH_Income_Percent_of_State_Total_2016  \n",
       "7                 4.86919                                       NaN  \n",
       "8                     5.9                                       100  \n",
       "9                     5.1                                     117.7  \n",
       "10                    5.4                                     121.9  \n",
       "11                    8.4                                        71  "
      ]
     },
     "execution_count": 110,
     "metadata": {},
     "output_type": "execute_result"
    }
   ],
   "source": [
    "# selecting wanted columns\n",
    "unemp_dfprocess = pd.concat([unemp_df.iloc[:, 0:6], unemp_df.iloc[:,29], unemp_df.iloc[:, 33], unemp_df.iloc[:, 37], unemp_df.iloc[:, 41], unemp_df.iloc[:, 45],unemp_df.iloc[:, 51]], axis=1) \n",
    "\n",
    "unemp_dfprocess.head()"
   ]
  },
  {
   "cell_type": "code",
   "execution_count": 111,
   "metadata": {},
   "outputs": [
    {
     "data": {
      "text/html": [
       "<div>\n",
       "<style scoped>\n",
       "    .dataframe tbody tr th:only-of-type {\n",
       "        vertical-align: middle;\n",
       "    }\n",
       "\n",
       "    .dataframe tbody tr th {\n",
       "        vertical-align: top;\n",
       "    }\n",
       "\n",
       "    .dataframe thead th {\n",
       "        text-align: right;\n",
       "    }\n",
       "</style>\n",
       "<table border=\"1\" class=\"dataframe\">\n",
       "  <thead>\n",
       "    <tr style=\"text-align: right;\">\n",
       "      <th></th>\n",
       "      <th>FIPS code</th>\n",
       "      <th>State</th>\n",
       "      <th>Area_name</th>\n",
       "      <th>RUC_2013</th>\n",
       "      <th>UIC_2013</th>\n",
       "      <th>Metro_2013</th>\n",
       "      <th>Uer_2012</th>\n",
       "      <th>Uer_2013</th>\n",
       "      <th>Uer_2014</th>\n",
       "      <th>Uer_2015</th>\n",
       "      <th>Uer_2016</th>\n",
       "      <th>Medi_inc2016</th>\n",
       "      <th>Uer_Avg</th>\n",
       "    </tr>\n",
       "  </thead>\n",
       "  <tbody>\n",
       "    <tr>\n",
       "      <th>7</th>\n",
       "      <td>00000</td>\n",
       "      <td>US</td>\n",
       "      <td>United States</td>\n",
       "      <td>NaN</td>\n",
       "      <td>NaN</td>\n",
       "      <td>NaN</td>\n",
       "      <td>8.070362</td>\n",
       "      <td>7.375232</td>\n",
       "      <td>6.168215</td>\n",
       "      <td>5.28368</td>\n",
       "      <td>4.869192</td>\n",
       "      <td>NaN</td>\n",
       "      <td>6.353336</td>\n",
       "    </tr>\n",
       "    <tr>\n",
       "      <th>8</th>\n",
       "      <td>01000</td>\n",
       "      <td>AL</td>\n",
       "      <td>Alabama</td>\n",
       "      <td>NaN</td>\n",
       "      <td>NaN</td>\n",
       "      <td>NaN</td>\n",
       "      <td>8.000000</td>\n",
       "      <td>7.200000</td>\n",
       "      <td>6.800000</td>\n",
       "      <td>6.10000</td>\n",
       "      <td>5.900000</td>\n",
       "      <td>100</td>\n",
       "      <td>6.800000</td>\n",
       "    </tr>\n",
       "    <tr>\n",
       "      <th>9</th>\n",
       "      <td>01001</td>\n",
       "      <td>AL</td>\n",
       "      <td>Autauga County, AL</td>\n",
       "      <td>2</td>\n",
       "      <td>2</td>\n",
       "      <td>1</td>\n",
       "      <td>6.900000</td>\n",
       "      <td>6.200000</td>\n",
       "      <td>5.800000</td>\n",
       "      <td>5.20000</td>\n",
       "      <td>5.100000</td>\n",
       "      <td>117.7</td>\n",
       "      <td>5.840000</td>\n",
       "    </tr>\n",
       "    <tr>\n",
       "      <th>10</th>\n",
       "      <td>01003</td>\n",
       "      <td>AL</td>\n",
       "      <td>Baldwin County, AL</td>\n",
       "      <td>3</td>\n",
       "      <td>2</td>\n",
       "      <td>1</td>\n",
       "      <td>7.500000</td>\n",
       "      <td>6.600000</td>\n",
       "      <td>6.100000</td>\n",
       "      <td>5.50000</td>\n",
       "      <td>5.400000</td>\n",
       "      <td>121.9</td>\n",
       "      <td>6.220000</td>\n",
       "    </tr>\n",
       "    <tr>\n",
       "      <th>11</th>\n",
       "      <td>01005</td>\n",
       "      <td>AL</td>\n",
       "      <td>Barbour County, AL</td>\n",
       "      <td>6</td>\n",
       "      <td>6</td>\n",
       "      <td>0</td>\n",
       "      <td>11.500000</td>\n",
       "      <td>10.200000</td>\n",
       "      <td>10.500000</td>\n",
       "      <td>8.90000</td>\n",
       "      <td>8.400000</td>\n",
       "      <td>71</td>\n",
       "      <td>9.900000</td>\n",
       "    </tr>\n",
       "  </tbody>\n",
       "</table>\n",
       "</div>"
      ],
      "text/plain": [
       "   FIPS code State           Area_name RUC_2013 UIC_2013 Metro_2013  \\\n",
       "7      00000    US       United States      NaN      NaN        NaN   \n",
       "8      01000    AL             Alabama      NaN      NaN        NaN   \n",
       "9      01001    AL  Autauga County, AL        2        2          1   \n",
       "10     01003    AL  Baldwin County, AL        3        2          1   \n",
       "11     01005    AL  Barbour County, AL        6        6          0   \n",
       "\n",
       "     Uer_2012   Uer_2013   Uer_2014  Uer_2015  Uer_2016 Medi_inc2016   Uer_Avg  \n",
       "7    8.070362   7.375232   6.168215   5.28368  4.869192          NaN  6.353336  \n",
       "8    8.000000   7.200000   6.800000   6.10000  5.900000          100  6.800000  \n",
       "9    6.900000   6.200000   5.800000   5.20000  5.100000        117.7  5.840000  \n",
       "10   7.500000   6.600000   6.100000   5.50000  5.400000        121.9  6.220000  \n",
       "11  11.500000  10.200000  10.500000   8.90000  8.400000           71  9.900000  "
      ]
     },
     "execution_count": 111,
     "metadata": {},
     "output_type": "execute_result"
    }
   ],
   "source": [
    "unemp_dfprocess.columns =['FIPS code', 'State', 'Area_name',  'RUC_2013', 'UIC_2013', 'Metro_2013', 'Uer_2012', 'Uer_2013', 'Uer_2014', 'Uer_2015', 'Uer_2016', 'Medi_inc2016']\n",
    "\n",
    "\n",
    "unemp_dfprocess[['Uer_2012', 'Uer_2013', 'Uer_2014', 'Uer_2015','Uer_2016']] = unemp_dfprocess[['Uer_2012', 'Uer_2013', 'Uer_2014', 'Uer_2015','Uer_2016']].apply(pd.to_numeric)\n",
    "unemp_dfprocess['Uer_Avg'] = (unemp_dfprocess['Uer_2012']+unemp_dfprocess['Uer_2013']+unemp_dfprocess['Uer_2014']+unemp_dfprocess['Uer_2015']+unemp_dfprocess['Uer_2016'])/5\n",
    "unemp_dfprocesscopy = unemp_dfprocess.copy()\n",
    "unemp_dfprocess.head()"
   ]
  },
  {
   "cell_type": "code",
   "execution_count": 112,
   "metadata": {},
   "outputs": [
    {
     "data": {
      "text/html": [
       "<div>\n",
       "<style scoped>\n",
       "    .dataframe tbody tr th:only-of-type {\n",
       "        vertical-align: middle;\n",
       "    }\n",
       "\n",
       "    .dataframe tbody tr th {\n",
       "        vertical-align: top;\n",
       "    }\n",
       "\n",
       "    .dataframe thead th {\n",
       "        text-align: right;\n",
       "    }\n",
       "</style>\n",
       "<table border=\"1\" class=\"dataframe\">\n",
       "  <thead>\n",
       "    <tr style=\"text-align: right;\">\n",
       "      <th></th>\n",
       "      <th>FIPS code</th>\n",
       "      <th>State</th>\n",
       "      <th>Area_name</th>\n",
       "      <th>RUC_2013</th>\n",
       "      <th>UIC_2013</th>\n",
       "      <th>Metro_2013</th>\n",
       "      <th>Uer_2012</th>\n",
       "      <th>Uer_2013</th>\n",
       "      <th>Uer_2014</th>\n",
       "      <th>Uer_2015</th>\n",
       "      <th>Uer_2016</th>\n",
       "      <th>Medi_inc2016</th>\n",
       "      <th>Uer_Avg</th>\n",
       "    </tr>\n",
       "  </thead>\n",
       "  <tbody>\n",
       "    <tr>\n",
       "      <th>7</th>\n",
       "      <td>00000</td>\n",
       "      <td>US</td>\n",
       "      <td>United States</td>\n",
       "      <td>NaN</td>\n",
       "      <td>NaN</td>\n",
       "      <td>NaN</td>\n",
       "      <td>8.070362</td>\n",
       "      <td>7.375232</td>\n",
       "      <td>6.168215</td>\n",
       "      <td>5.28368</td>\n",
       "      <td>4.869192</td>\n",
       "      <td>NaN</td>\n",
       "      <td>6.353336</td>\n",
       "    </tr>\n",
       "  </tbody>\n",
       "</table>\n",
       "</div>"
      ],
      "text/plain": [
       "  FIPS code State      Area_name RUC_2013 UIC_2013 Metro_2013  Uer_2012  \\\n",
       "7     00000    US  United States      NaN      NaN        NaN  8.070362   \n",
       "\n",
       "   Uer_2013  Uer_2014  Uer_2015  Uer_2016 Medi_inc2016   Uer_Avg  \n",
       "7  7.375232  6.168215   5.28368  4.869192          NaN  6.353336  "
      ]
     },
     "execution_count": 112,
     "metadata": {},
     "output_type": "execute_result"
    }
   ],
   "source": [
    "# collecting  national data, Pennsylvania, LehighCounty, Northamptoncounty\n",
    "\n",
    "unemp_national = unemp_dfprocess[unemp_dfprocess['State']=='US']\n",
    "unemp_PA = unemp_dfprocess[unemp_dfprocess['Area_name']=='Pennsylvania']\n",
    "unemp_LC = unemp_dfprocess[unemp_dfprocess['Area_name']=='Lehigh County, PA']\n",
    "unemp_NC = unemp_dfprocess[unemp_dfprocess['Area_name']=='Northampton County, PA']\n",
    "unemp_national.head()"
   ]
  },
  {
   "cell_type": "code",
   "execution_count": 113,
   "metadata": {},
   "outputs": [
    {
     "name": "stdout",
     "output_type": "stream",
     "text": [
      "<class 'pandas.core.frame.DataFrame'>\n",
      "RangeIndex: 3275 entries, 7 to 3281\n",
      "Data columns (total 13 columns):\n",
      "FIPS code       3275 non-null object\n",
      "State           3275 non-null object\n",
      "Area_name       3275 non-null object\n",
      "RUC_2013        3219 non-null object\n",
      "UIC_2013        3219 non-null object\n",
      "Metro_2013      3222 non-null object\n",
      "Uer_2012        3272 non-null float64\n",
      "Uer_2013        3272 non-null float64\n",
      "Uer_2014        3272 non-null float64\n",
      "Uer_2015        3272 non-null float64\n",
      "Uer_2016        3272 non-null float64\n",
      "Medi_inc2016    3192 non-null object\n",
      "Uer_Avg         3272 non-null float64\n",
      "dtypes: float64(6), object(7)\n",
      "memory usage: 332.7+ KB\n"
     ]
    }
   ],
   "source": [
    "# unemp_dfprocess.to_csv('processed_unempldata.csv', encoding='utf-8', index=False)\n",
    "unemp_dfprocess.info()"
   ]
  },
  {
   "cell_type": "code",
   "execution_count": 114,
   "metadata": {},
   "outputs": [],
   "source": [
    "# creating newcolumn which has the average of all\n",
    "\n",
    "unemp_dfprocess_copy = unemp_dfprocess.copy()\n",
    "unemp_dfprocess = unemp_dfprocess.dropna()"
   ]
  },
  {
   "cell_type": "code",
   "execution_count": 115,
   "metadata": {
    "scrolled": true
   },
   "outputs": [
    {
     "data": {
      "text/html": [
       "<div>\n",
       "<style scoped>\n",
       "    .dataframe tbody tr th:only-of-type {\n",
       "        vertical-align: middle;\n",
       "    }\n",
       "\n",
       "    .dataframe tbody tr th {\n",
       "        vertical-align: top;\n",
       "    }\n",
       "\n",
       "    .dataframe thead th {\n",
       "        text-align: right;\n",
       "    }\n",
       "</style>\n",
       "<table border=\"1\" class=\"dataframe\">\n",
       "  <thead>\n",
       "    <tr style=\"text-align: right;\">\n",
       "      <th></th>\n",
       "      <th>FIPS code</th>\n",
       "      <th>State</th>\n",
       "      <th>Area_name</th>\n",
       "      <th>RUC_2013</th>\n",
       "      <th>UIC_2013</th>\n",
       "      <th>Metro_2013</th>\n",
       "      <th>Uer_2012</th>\n",
       "      <th>Uer_2013</th>\n",
       "      <th>Uer_2014</th>\n",
       "      <th>Uer_2015</th>\n",
       "      <th>Uer_2016</th>\n",
       "      <th>Medi_inc2016</th>\n",
       "      <th>Uer_Avg</th>\n",
       "    </tr>\n",
       "  </thead>\n",
       "  <tbody>\n",
       "    <tr>\n",
       "      <th>0</th>\n",
       "      <td>01001</td>\n",
       "      <td>AL</td>\n",
       "      <td>Autauga County, AL</td>\n",
       "      <td>2</td>\n",
       "      <td>2</td>\n",
       "      <td>1</td>\n",
       "      <td>6.9</td>\n",
       "      <td>6.2</td>\n",
       "      <td>5.8</td>\n",
       "      <td>5.2</td>\n",
       "      <td>5.1</td>\n",
       "      <td>117.7</td>\n",
       "      <td>5.84</td>\n",
       "    </tr>\n",
       "    <tr>\n",
       "      <th>1</th>\n",
       "      <td>01003</td>\n",
       "      <td>AL</td>\n",
       "      <td>Baldwin County, AL</td>\n",
       "      <td>3</td>\n",
       "      <td>2</td>\n",
       "      <td>1</td>\n",
       "      <td>7.5</td>\n",
       "      <td>6.6</td>\n",
       "      <td>6.1</td>\n",
       "      <td>5.5</td>\n",
       "      <td>5.4</td>\n",
       "      <td>121.9</td>\n",
       "      <td>6.22</td>\n",
       "    </tr>\n",
       "    <tr>\n",
       "      <th>2</th>\n",
       "      <td>01005</td>\n",
       "      <td>AL</td>\n",
       "      <td>Barbour County, AL</td>\n",
       "      <td>6</td>\n",
       "      <td>6</td>\n",
       "      <td>0</td>\n",
       "      <td>11.5</td>\n",
       "      <td>10.2</td>\n",
       "      <td>10.5</td>\n",
       "      <td>8.9</td>\n",
       "      <td>8.4</td>\n",
       "      <td>71</td>\n",
       "      <td>9.90</td>\n",
       "    </tr>\n",
       "    <tr>\n",
       "      <th>3</th>\n",
       "      <td>01007</td>\n",
       "      <td>AL</td>\n",
       "      <td>Bibb County, AL</td>\n",
       "      <td>1</td>\n",
       "      <td>1</td>\n",
       "      <td>1</td>\n",
       "      <td>8.5</td>\n",
       "      <td>7.9</td>\n",
       "      <td>7.2</td>\n",
       "      <td>6.6</td>\n",
       "      <td>6.5</td>\n",
       "      <td>93</td>\n",
       "      <td>7.34</td>\n",
       "    </tr>\n",
       "    <tr>\n",
       "      <th>4</th>\n",
       "      <td>01009</td>\n",
       "      <td>AL</td>\n",
       "      <td>Blount County, AL</td>\n",
       "      <td>1</td>\n",
       "      <td>1</td>\n",
       "      <td>1</td>\n",
       "      <td>6.9</td>\n",
       "      <td>6.3</td>\n",
       "      <td>6.1</td>\n",
       "      <td>5.4</td>\n",
       "      <td>5.4</td>\n",
       "      <td>102</td>\n",
       "      <td>6.02</td>\n",
       "    </tr>\n",
       "  </tbody>\n",
       "</table>\n",
       "</div>"
      ],
      "text/plain": [
       "  FIPS code State           Area_name RUC_2013 UIC_2013 Metro_2013  Uer_2012  \\\n",
       "0     01001    AL  Autauga County, AL        2        2          1       6.9   \n",
       "1     01003    AL  Baldwin County, AL        3        2          1       7.5   \n",
       "2     01005    AL  Barbour County, AL        6        6          0      11.5   \n",
       "3     01007    AL     Bibb County, AL        1        1          1       8.5   \n",
       "4     01009    AL   Blount County, AL        1        1          1       6.9   \n",
       "\n",
       "   Uer_2013  Uer_2014  Uer_2015  Uer_2016 Medi_inc2016  Uer_Avg  \n",
       "0       6.2       5.8       5.2       5.1        117.7     5.84  \n",
       "1       6.6       6.1       5.5       5.4        121.9     6.22  \n",
       "2      10.2      10.5       8.9       8.4           71     9.90  \n",
       "3       7.9       7.2       6.6       6.5           93     7.34  \n",
       "4       6.3       6.1       5.4       5.4          102     6.02  "
      ]
     },
     "execution_count": 115,
     "metadata": {},
     "output_type": "execute_result"
    }
   ],
   "source": [
    "# reset indexes\n",
    "unemp_dfprocess = unemp_dfprocess.reset_index(drop=True)\n",
    "unemp_dfprocess.head()\n",
    "# ed_dfprocess.columns = ['FIPS code', 'State', 'Area_name',  'RUC_2013', 'UIC_2013','Metro_2013','Uer_2012','Uer_201','Uer_201', 'Uer_201','Uer_201','HSD_%']"
   ]
  },
  {
   "cell_type": "code",
   "execution_count": 116,
   "metadata": {},
   "outputs": [
    {
     "name": "stdout",
     "output_type": "stream",
     "text": [
      "<class 'pandas.core.frame.DataFrame'>\n",
      "RangeIndex: 3141 entries, 0 to 3140\n",
      "Data columns (total 13 columns):\n",
      "FIPS code       3141 non-null object\n",
      "State           3141 non-null object\n",
      "Area_name       3141 non-null object\n",
      "RUC_2013        3141 non-null object\n",
      "UIC_2013        3141 non-null object\n",
      "Metro_2013      3141 non-null object\n",
      "Uer_2012        3141 non-null float64\n",
      "Uer_2013        3141 non-null float64\n",
      "Uer_2014        3141 non-null float64\n",
      "Uer_2015        3141 non-null float64\n",
      "Uer_2016        3141 non-null float64\n",
      "Medi_inc2016    3141 non-null object\n",
      "Uer_Avg         3141 non-null float64\n",
      "dtypes: float64(6), object(7)\n",
      "memory usage: 319.1+ KB\n"
     ]
    }
   ],
   "source": [
    "unemp_dfprocess.info()"
   ]
  },
  {
   "cell_type": "code",
   "execution_count": 117,
   "metadata": {},
   "outputs": [
    {
     "data": {
      "text/plain": [
       "<matplotlib.axes._subplots.AxesSubplot at 0x254885ba908>"
      ]
     },
     "execution_count": 117,
     "metadata": {},
     "output_type": "execute_result"
    },
    {
     "data": {
      "image/png": "[encoded data removed]",
      "text/plain": [
       "<Figure size 432x288 with 1 Axes>"
      ]
     },
     "metadata": {},
     "output_type": "display_data"
    }
   ],
   "source": [
    "# Uer_dfstats = unemp_dfprocess.drop(['FIPS code', 'State','Area_name','RUC_2013','UIC_2013','Metro_2013'], axis=1)\n",
    "Uer_dfstats =  pd.concat([unemp_dfprocess.iloc[:,11:13]], axis=1)\n",
    "sns.boxplot(x=Uer_dfstats['Uer_Avg'])"
   ]
  },
  {
   "cell_type": "code",
   "execution_count": 118,
   "metadata": {
    "scrolled": true
   },
   "outputs": [
    {
     "data": {
      "text/plain": [
       "<matplotlib.axes._subplots.AxesSubplot at 0x254886b0978>"
      ]
     },
     "execution_count": 118,
     "metadata": {},
     "output_type": "execute_result"
    },
    {
     "data": {
      "image/png": "[encoded data removed]",
      "text/plain": [
       "<Figure size 432x288 with 1 Axes>"
      ]
     },
     "metadata": {},
     "output_type": "display_data"
    }
   ],
   "source": [
    "sns.boxplot(data=Uer_dfstats['Medi_inc2016'])"
   ]
  },
  {
   "cell_type": "code",
   "execution_count": 119,
   "metadata": {},
   "outputs": [
    {
     "data": {
      "text/plain": [
       "Uer_Avg    63\n",
       "dtype: int64"
      ]
     },
     "execution_count": 119,
     "metadata": {},
     "output_type": "execute_result"
    }
   ],
   "source": [
    "Q1 = unemp_dfprocess[['Uer_Avg']].quantile(0.25) \n",
    "Q3 = unemp_dfprocess[['Uer_Avg']].quantile(0.75) \n",
    "IQR = Q3 - Q1\n",
    "((Uer_dfstats[['Uer_Avg']] < (Q1 - 1.5 * IQR)) | (Uer_dfstats[['Uer_Avg']] > (Q3 + 1.5 * IQR))).sum()"
   ]
  },
  {
   "cell_type": "code",
   "execution_count": 120,
   "metadata": {},
   "outputs": [],
   "source": [
    "q = unemp_dfprocess['Uer_Avg'].quantile(0.99)\n",
    "unemp_dfprocess = unemp_dfprocess[unemp_dfprocess['Uer_Avg']<q]"
   ]
  },
  {
   "cell_type": "code",
   "execution_count": 121,
   "metadata": {},
   "outputs": [],
   "source": [
    "Q1 = unemp_dfprocess['Medi_inc2016'].quantile(0.25) \n",
    "Q3 = unemp_dfprocess['Medi_inc2016'].quantile(0.75) \n",
    "IQR = Q3 - Q1\n",
    "((Uer_dfstats['Medi_inc2016'] < (Q1 - 1.5 * IQR)) | (Uer_dfstats['Medi_inc2016'] > (Q3 + 1.5 * IQR))).sum()\n",
    "q = unemp_dfprocess['Medi_inc2016'].quantile(0.99)\n",
    "unemp_dfprocess = unemp_dfprocess[unemp_dfprocess['Medi_inc2016']<q]"
   ]
  },
  {
   "cell_type": "code",
   "execution_count": 122,
   "metadata": {},
   "outputs": [],
   "source": [
    "unemp_dfprocess = unemp_dfprocess.reset_index(drop=True)"
   ]
  },
  {
   "cell_type": "code",
   "execution_count": 123,
   "metadata": {
    "scrolled": true
   },
   "outputs": [
    {
     "name": "stdout",
     "output_type": "stream",
     "text": [
      "<class 'pandas.core.frame.DataFrame'>\n",
      "RangeIndex: 3077 entries, 0 to 3076\n",
      "Data columns (total 13 columns):\n",
      "FIPS code       3077 non-null object\n",
      "State           3077 non-null object\n",
      "Area_name       3077 non-null object\n",
      "RUC_2013        3077 non-null object\n",
      "UIC_2013        3077 non-null object\n",
      "Metro_2013      3077 non-null object\n",
      "Uer_2012        3077 non-null float64\n",
      "Uer_2013        3077 non-null float64\n",
      "Uer_2014        3077 non-null float64\n",
      "Uer_2015        3077 non-null float64\n",
      "Uer_2016        3077 non-null float64\n",
      "Medi_inc2016    3077 non-null object\n",
      "Uer_Avg         3077 non-null float64\n",
      "dtypes: float64(6), object(7)\n",
      "memory usage: 312.6+ KB\n"
     ]
    }
   ],
   "source": [
    "unemp_dfprocess.info()"
   ]
  },
  {
   "cell_type": "code",
   "execution_count": 124,
   "metadata": {},
   "outputs": [
    {
     "data": {
      "text/plain": [
       "1.7600000000000002"
      ]
     },
     "execution_count": 124,
     "metadata": {},
     "output_type": "execute_result"
    }
   ],
   "source": [
    "Uer_dfstats['Uer_Avg'].min()"
   ]
  },
  {
   "cell_type": "code",
   "execution_count": 125,
   "metadata": {},
   "outputs": [
    {
     "data": {
      "image/png": "[encoded data removed]",
      "text/plain": [
       "<Figure size 432x288 with 1 Axes>"
      ]
     },
     "metadata": {},
     "output_type": "display_data"
    },
    {
     "data": {
      "image/png": "[encoded data removed]",
      "text/plain": [
       "<Figure size 432x288 with 1 Axes>"
      ]
     },
     "metadata": {},
     "output_type": "display_data"
    },
    {
     "data": {
      "image/png": "[encoded data removed]",
      "text/plain": [
       "<Figure size 432x288 with 1 Axes>"
      ]
     },
     "metadata": {},
     "output_type": "display_data"
    },
    {
     "data": {
      "image/png": "[encoded data removed]",
      "text/plain": [
       "<Figure size 432x288 with 1 Axes>"
      ]
     },
     "metadata": {},
     "output_type": "display_data"
    },
    {
     "data": {
      "image/png": "[encoded data removed]",
      "text/plain": [
       "<Figure size 432x288 with 1 Axes>"
      ]
     },
     "metadata": {},
     "output_type": "display_data"
    },
    {
     "name": "stdout",
     "output_type": "stream",
     "text": [
      "7.783555411114724\n",
      "7.297107572310674\n",
      "6.172635684107907\n",
      "5.465908352291196\n",
      "5.166915827104322\n"
     ]
    }
   ],
   "source": [
    "# overall Unemployment rate; results\n",
    "sns.violinplot(pd.to_numeric(unemp_dfprocess.Uer_2012, errors='ignore'))\n",
    "plt.show()\n",
    "\n",
    "sns.violinplot(pd.to_numeric(unemp_dfprocess.Uer_2013, errors='ignore'))\n",
    "plt.show()\n",
    "\n",
    "sns.violinplot(pd.to_numeric(unemp_dfprocess.Uer_2014, errors='ignore'))\n",
    "plt.show()\n",
    "\n",
    "sns.violinplot(pd.to_numeric(unemp_dfprocess.Uer_2015, errors='ignore'))\n",
    "plt.show()\n",
    "\n",
    "sns.violinplot(pd.to_numeric(unemp_dfprocess.Uer_2016, errors='ignore'))\n",
    "plt.show()\n",
    "\n",
    "print(unemp_dfprocess['Uer_2012'].mean())\n",
    "print(unemp_dfprocess['Uer_2013'].mean())\n",
    "print(unemp_dfprocess['Uer_2014'].mean())\n",
    "print(unemp_dfprocess['Uer_2015'].mean())\n",
    "print(unemp_dfprocess['Uer_2016'].mean())"
   ]
  },
  {
   "cell_type": "code",
   "execution_count": 126,
   "metadata": {},
   "outputs": [],
   "source": [
    "# sns.violinplot(pd.to_numeric(unemp_dfprocess.Uer_2012, errors='ignore'))\n",
    "# plt.show()\n",
    "\n",
    "# sns.violinplot(pd.to_numeric(unemp_dfprocess.Uer_2013, errors='ignore'))\n",
    "# plt.show()\n",
    "\n",
    "# sns.violinplot(pd.to_numeric(unemp_dfprocess.Uer_2014, errors='ignore'))\n",
    "# plt.show()\n",
    "\n",
    "# sns.violinplot(pd.to_numeric(unemp_dfprocess.Uer_2015, errors='ignore'))\n",
    "# plt.show()\n",
    "\n",
    "# sns.violinplot(pd.to_numeric(unemp_dfprocess.Uer_2016, errors='ignore'))\n",
    "# plt.show()\n",
    "\n",
    "# print(unemp_dfprocess['Uer_2012'].mean())\n",
    "# print(unemp_dfprocess['Uer_2013'].mean())\n",
    "# print(unemp_dfprocess['Uer_2014'].mean())\n",
    "# print(unemp_dfprocess['Uer_2015'].mean())\n",
    "# print(unemp_dfprocess['Uer_2016'].mean())"
   ]
  },
  {
   "cell_type": "markdown",
   "metadata": {},
   "source": [
    "## Education"
   ]
  },
  {
   "cell_type": "code",
   "execution_count": 127,
   "metadata": {},
   "outputs": [],
   "source": [
    "ed_df = pd.read_excel('C:\\\\Users\\\\kiran\\\\OneDrive\\\\Desktop\\\\New folder\\\\Jobs_work\\\\Jobs_work\\\\Lehigh Datasets\\\\Education\\\\Education.xls')"
   ]
  },
  {
   "cell_type": "code",
   "execution_count": 128,
   "metadata": {},
   "outputs": [
    {
     "name": "stdout",
     "output_type": "stream",
     "text": [
      "<class 'pandas.core.frame.DataFrame'>\n",
      "RangeIndex: 3283 entries, 4 to 3286\n",
      "Data columns (total 47 columns):\n",
      "FIPS Code                                                                     3283 non-null object\n",
      "State                                                                         3283 non-null object\n",
      "Area name                                                                     3283 non-null object\n",
      "2003 Rural-urban Continuum Code                                               3221 non-null object\n",
      "2003 Urban Influence Code                                                     3221 non-null object\n",
      "2013 Rural-urban Continuum Code                                               3221 non-null object\n",
      "2013 Urban Influence Code                                                     3221 non-null object\n",
      "Less than a high school diploma, 1970                                         3186 non-null object\n",
      "High school diploma only, 1970                                                3186 non-null object\n",
      "Some college (1-3 years), 1970                                                3186 non-null object\n",
      "Four years of college or higher, 1970                                         3186 non-null object\n",
      "Percent of adults with less than a high school diploma, 1970                  3186 non-null object\n",
      "Percent of adults with a high school diploma only, 1970                       3186 non-null object\n",
      "Percent of adults completing some college (1-3 years), 1970                   3186 non-null object\n",
      "Percent of adults completing four years of college or higher, 1970            3186 non-null object\n",
      "Less than a high school diploma, 1980                                         3267 non-null object\n",
      "High school diploma only, 1980                                                3267 non-null object\n",
      "Some college (1-3 years), 1980                                                3267 non-null object\n",
      "Four years of college or higher, 1980                                         3267 non-null object\n",
      "Percent of adults with less than a high school diploma, 1980                  3267 non-null object\n",
      "Percent of adults with a high school diploma only, 1980                       3267 non-null object\n",
      "Percent of adults completing some college (1-3 years), 1980                   3267 non-null object\n",
      "Percent of adults completing four years of college or higher, 1980            3267 non-null object\n",
      "Less than a high school diploma, 1990                                         3271 non-null object\n",
      "High school diploma only, 1990                                                3271 non-null object\n",
      "Some college or associate's degree, 1990                                      3271 non-null object\n",
      "Bachelor's degree or higher, 1990                                             3271 non-null object\n",
      "Percent of adults with less than a high school diploma, 1990                  3271 non-null object\n",
      "Percent of adults with a high school diploma only, 1990                       3271 non-null object\n",
      "Percent of adults completing some college or associate's degree, 1990         3270 non-null object\n",
      "Percent of adults with a bachelor's degree or higher, 1990                    3271 non-null object\n",
      "Less than a high school diploma, 2000                                         3272 non-null object\n",
      "High school diploma only, 2000                                                3272 non-null object\n",
      "Some college or associate's degree, 2000                                      3272 non-null object\n",
      "Bachelor's degree or higher, 2000                                             3272 non-null object\n",
      "Percent of adults with less than a high school diploma, 2000                  3272 non-null object\n",
      "Percent of adults with a high school diploma only, 2000                       3272 non-null object\n",
      "Percent of adults completing some college or associate's degree, 2000         3272 non-null object\n",
      "Percent of adults with a bachelor's degree or higher, 2000                    3272 non-null object\n",
      "Less than a high school diploma, 2012-2016                                    3273 non-null object\n",
      "High school diploma only, 2012-2016                                           3273 non-null object\n",
      "Some college or associate's degree, 2012-2016                                 3273 non-null object\n",
      "Bachelor's degree or higher, 2012-2016                                        3273 non-null object\n",
      "Percent of adults with less than a high school diploma, 2012-2016             3273 non-null object\n",
      "Percent of adults with a high school diploma only, 2012-2016                  3273 non-null object\n",
      "Percent of adults completing some college or associate's degree, 2012-2016    3273 non-null object\n",
      "Percent of adults with a bachelor's degree or higher, 2012-2016               3273 non-null object\n",
      "dtypes: object(47)\n",
      "memory usage: 1.2+ MB\n"
     ]
    }
   ],
   "source": [
    "ed_df = ed_df[3:]\n",
    "ed_df.columns = ed_df.iloc[0]\n",
    "ed_df = ed_df[1:]\n",
    "ed_df.head()\n",
    "ed_df.info()"
   ]
  },
  {
   "cell_type": "code",
   "execution_count": 129,
   "metadata": {},
   "outputs": [],
   "source": [
    "ed_dfprocess = pd.concat([ed_df.iloc[:,0:3],ed_df.iloc[:,5:7], ed_df.iloc[:,39:45]], axis=1)"
   ]
  },
  {
   "cell_type": "code",
   "execution_count": 130,
   "metadata": {},
   "outputs": [],
   "source": [
    "# ed_dfprocess.head()\n"
   ]
  },
  {
   "cell_type": "code",
   "execution_count": 131,
   "metadata": {},
   "outputs": [
    {
     "name": "stdout",
     "output_type": "stream",
     "text": [
      "<class 'pandas.core.frame.DataFrame'>\n",
      "RangeIndex: 3283 entries, 4 to 3286\n",
      "Data columns (total 11 columns):\n",
      "FIPS code    3283 non-null object\n",
      "State        3283 non-null object\n",
      "Area_name    3283 non-null object\n",
      "RUC_2013     3221 non-null object\n",
      "UIC_2013     3221 non-null object\n",
      "LHD          3273 non-null object\n",
      "HSD          3273 non-null object\n",
      "ABD          3273 non-null object\n",
      "BDH          3273 non-null object\n",
      "LHD_%        3273 non-null object\n",
      "HSD_%        3273 non-null object\n",
      "dtypes: object(11)\n",
      "memory usage: 282.2+ KB\n"
     ]
    }
   ],
   "source": [
    "ed_dfprocess.columns = ['FIPS code', 'State', 'Area_name',  'RUC_2013', 'UIC_2013','LHD','HSD','ABD', 'BDH','LHD_%','HSD_%']\n",
    "ed_dfprocesscopy = ed_dfprocess.copy()\n",
    "ed_dfprocesscopy.info()"
   ]
  },
  {
   "cell_type": "code",
   "execution_count": 132,
   "metadata": {},
   "outputs": [],
   "source": [
    "ed_dfprocess['ABD_%'] = 100*ed_dfprocess['ABD']/(ed_dfprocess['LHD']+ed_dfprocess['HSD']+ed_dfprocess['ABD']+ed_dfprocess['BDH'])\n",
    "ed_dfprocess['BDH_%'] = 100*ed_dfprocess['BDH']/(ed_dfprocess['LHD']+ed_dfprocess['HSD']+ed_dfprocess['ABD']+ed_dfprocess['BDH'])\n"
   ]
  },
  {
   "cell_type": "code",
   "execution_count": 133,
   "metadata": {},
   "outputs": [
    {
     "data": {
      "text/html": [
       "<div>\n",
       "<style scoped>\n",
       "    .dataframe tbody tr th:only-of-type {\n",
       "        vertical-align: middle;\n",
       "    }\n",
       "\n",
       "    .dataframe tbody tr th {\n",
       "        vertical-align: top;\n",
       "    }\n",
       "\n",
       "    .dataframe thead th {\n",
       "        text-align: right;\n",
       "    }\n",
       "</style>\n",
       "<table border=\"1\" class=\"dataframe\">\n",
       "  <thead>\n",
       "    <tr style=\"text-align: right;\">\n",
       "      <th></th>\n",
       "      <th>FIPS code</th>\n",
       "      <th>State</th>\n",
       "      <th>Area_name</th>\n",
       "      <th>RUC_2013</th>\n",
       "      <th>UIC_2013</th>\n",
       "      <th>LHD</th>\n",
       "      <th>HSD</th>\n",
       "      <th>ABD</th>\n",
       "      <th>BDH</th>\n",
       "      <th>LHD_%</th>\n",
       "      <th>HSD_%</th>\n",
       "      <th>ABD_%</th>\n",
       "      <th>BDH_%</th>\n",
       "    </tr>\n",
       "  </thead>\n",
       "  <tbody>\n",
       "    <tr>\n",
       "      <th>2295</th>\n",
       "      <td>42000</td>\n",
       "      <td>PA</td>\n",
       "      <td>Pennsylvania</td>\n",
       "      <td>NaN</td>\n",
       "      <td>NaN</td>\n",
       "      <td>925686</td>\n",
       "      <td>3183249</td>\n",
       "      <td>2144961</td>\n",
       "      <td>2595950</td>\n",
       "      <td>10.46</td>\n",
       "      <td>35.97</td>\n",
       "      <td>24.2373</td>\n",
       "      <td>29.3333</td>\n",
       "    </tr>\n",
       "  </tbody>\n",
       "</table>\n",
       "</div>"
      ],
      "text/plain": [
       "     FIPS code State     Area_name RUC_2013 UIC_2013     LHD      HSD  \\\n",
       "2295     42000    PA  Pennsylvania      NaN      NaN  925686  3183249   \n",
       "\n",
       "          ABD      BDH  LHD_%  HSD_%    ABD_%    BDH_%  \n",
       "2295  2144961  2595950  10.46  35.97  24.2373  29.3333  "
      ]
     },
     "execution_count": 133,
     "metadata": {},
     "output_type": "execute_result"
    }
   ],
   "source": [
    "# collecting  national data, Pennsylvania, LehighCounty, Northamptoncounty\n",
    "ed_national = ed_dfprocess[ed_dfprocess['State']=='US']\n",
    "ed_PA = ed_dfprocess[ed_dfprocess['Area_name']=='Pennsylvania']\n",
    "ed_LC = ed_dfprocess[ed_dfprocess['Area_name']=='Lehigh County']\n",
    "ed_NC = ed_dfprocess[ed_dfprocess['Area_name']=='Northampton County']\n",
    "ed_PA"
   ]
  },
  {
   "cell_type": "code",
   "execution_count": 134,
   "metadata": {},
   "outputs": [
    {
     "data": {
      "text/html": [
       "<div>\n",
       "<style scoped>\n",
       "    .dataframe tbody tr th:only-of-type {\n",
       "        vertical-align: middle;\n",
       "    }\n",
       "\n",
       "    .dataframe tbody tr th {\n",
       "        vertical-align: top;\n",
       "    }\n",
       "\n",
       "    .dataframe thead th {\n",
       "        text-align: right;\n",
       "    }\n",
       "</style>\n",
       "<table border=\"1\" class=\"dataframe\">\n",
       "  <thead>\n",
       "    <tr style=\"text-align: right;\">\n",
       "      <th></th>\n",
       "      <th>FIPS code</th>\n",
       "      <th>State</th>\n",
       "      <th>Area_name</th>\n",
       "      <th>RUC_2013</th>\n",
       "      <th>UIC_2013</th>\n",
       "      <th>LHD_%</th>\n",
       "      <th>HSD_%</th>\n",
       "      <th>ABD_%</th>\n",
       "      <th>BDH_%</th>\n",
       "    </tr>\n",
       "  </thead>\n",
       "  <tbody>\n",
       "    <tr>\n",
       "      <th>4</th>\n",
       "      <td>00000</td>\n",
       "      <td>US</td>\n",
       "      <td>United States</td>\n",
       "      <td>NaN</td>\n",
       "      <td>NaN</td>\n",
       "      <td>13.021</td>\n",
       "      <td>27.531</td>\n",
       "      <td>29.1331</td>\n",
       "      <td>30.315</td>\n",
       "    </tr>\n",
       "    <tr>\n",
       "      <th>5</th>\n",
       "      <td>01000</td>\n",
       "      <td>AL</td>\n",
       "      <td>Alabama</td>\n",
       "      <td>NaN</td>\n",
       "      <td>NaN</td>\n",
       "      <td>15.209</td>\n",
       "      <td>30.956</td>\n",
       "      <td>29.8246</td>\n",
       "      <td>24.0104</td>\n",
       "    </tr>\n",
       "    <tr>\n",
       "      <th>6</th>\n",
       "      <td>01001</td>\n",
       "      <td>AL</td>\n",
       "      <td>Autauga County</td>\n",
       "      <td>2</td>\n",
       "      <td>2</td>\n",
       "      <td>12.417</td>\n",
       "      <td>34.331</td>\n",
       "      <td>28.6596</td>\n",
       "      <td>24.5928</td>\n",
       "    </tr>\n",
       "    <tr>\n",
       "      <th>7</th>\n",
       "      <td>01003</td>\n",
       "      <td>AL</td>\n",
       "      <td>Baldwin County</td>\n",
       "      <td>3</td>\n",
       "      <td>2</td>\n",
       "      <td>9.972</td>\n",
       "      <td>28.692</td>\n",
       "      <td>31.788</td>\n",
       "      <td>29.5471</td>\n",
       "    </tr>\n",
       "    <tr>\n",
       "      <th>8</th>\n",
       "      <td>01005</td>\n",
       "      <td>AL</td>\n",
       "      <td>Barbour County</td>\n",
       "      <td>6</td>\n",
       "      <td>6</td>\n",
       "      <td>26.236</td>\n",
       "      <td>34.927</td>\n",
       "      <td>25.9694</td>\n",
       "      <td>12.8678</td>\n",
       "    </tr>\n",
       "  </tbody>\n",
       "</table>\n",
       "</div>"
      ],
      "text/plain": [
       "  FIPS code State       Area_name RUC_2013 UIC_2013   LHD_%   HSD_%    ABD_%  \\\n",
       "4     00000    US   United States      NaN      NaN  13.021  27.531  29.1331   \n",
       "5     01000    AL         Alabama      NaN      NaN  15.209  30.956  29.8246   \n",
       "6     01001    AL  Autauga County        2        2  12.417  34.331  28.6596   \n",
       "7     01003    AL  Baldwin County        3        2   9.972  28.692   31.788   \n",
       "8     01005    AL  Barbour County        6        6  26.236  34.927  25.9694   \n",
       "\n",
       "     BDH_%  \n",
       "4   30.315  \n",
       "5  24.0104  \n",
       "6  24.5928  \n",
       "7  29.5471  \n",
       "8  12.8678  "
      ]
     },
     "execution_count": 134,
     "metadata": {},
     "output_type": "execute_result"
    }
   ],
   "source": [
    "ed_dfprocess = ed_dfprocess.drop(['LHD', 'HSD', 'ABD', 'BDH'], axis =1)\n",
    "# ed_dfprocess.to_csv('processedEducationData.csv', encoding='utf-8', index=False)\n",
    "ed_dfprocess_copy = ed_dfprocess.copy()\n",
    "ed_dfprocess.head()"
   ]
  },
  {
   "cell_type": "code",
   "execution_count": 135,
   "metadata": {},
   "outputs": [
    {
     "name": "stdout",
     "output_type": "stream",
     "text": [
      "<class 'pandas.core.frame.DataFrame'>\n",
      "RangeIndex: 3283 entries, 4 to 3286\n",
      "Data columns (total 9 columns):\n",
      "FIPS code    3283 non-null object\n",
      "State        3283 non-null object\n",
      "Area_name    3283 non-null object\n",
      "RUC_2013     3221 non-null object\n",
      "UIC_2013     3221 non-null object\n",
      "LHD_%        3273 non-null object\n",
      "HSD_%        3273 non-null object\n",
      "ABD_%        3273 non-null object\n",
      "BDH_%        3273 non-null object\n",
      "dtypes: object(9)\n",
      "memory usage: 230.9+ KB\n"
     ]
    }
   ],
   "source": [
    "ed_dfprocess_copy.info()"
   ]
  },
  {
   "cell_type": "code",
   "execution_count": 136,
   "metadata": {},
   "outputs": [
    {
     "data": {
      "text/plain": [
       "<matplotlib.axes._subplots.AxesSubplot at 0x2548b71ca20>"
      ]
     },
     "execution_count": 136,
     "metadata": {},
     "output_type": "execute_result"
    },
    {
     "data": {
      "image/png": "[encoded data removed]",
      "text/plain": [
       "<Figure size 432x288 with 1 Axes>"
      ]
     },
     "metadata": {},
     "output_type": "display_data"
    }
   ],
   "source": [
    "# outliers\n",
    "ed_dfstats =  pd.concat([ed_dfprocess.iloc[:,5:9]], axis=1)\n",
    "ed_dfstats[['LHD_%','HSD_%','ABD_%','BDH_%']]=ed_dfstats[['LHD_%','HSD_%','ABD_%','BDH_%']].apply(pd.to_numeric)\n",
    "sns.boxplot(x=ed_dfstats['LHD_%'])"
   ]
  },
  {
   "cell_type": "code",
   "execution_count": 137,
   "metadata": {},
   "outputs": [
    {
     "name": "stdout",
     "output_type": "stream",
     "text": [
      "LHD_%    49\n",
      "dtype: int64\n"
     ]
    }
   ],
   "source": [
    "Q1 = ed_dfprocess['LHD_%'].quantile(0.25) \n",
    "Q3 = ed_dfprocess['LHD_%'].quantile(0.75) \n",
    "IQR = Q3 - Q1\n",
    "print(((ed_dfstats[['LHD_%']] < (Q1 - 1.5 * IQR)) | (ed_dfstats[['LHD_%']] > (Q3 + 1.5 * IQR))).sum())\n",
    "\n",
    "q = ed_dfprocess['LHD_%'].quantile(0.99)\n",
    "ed_dfprocess = ed_dfprocess[ed_dfprocess['LHD_%']<q]"
   ]
  },
  {
   "cell_type": "code",
   "execution_count": 138,
   "metadata": {},
   "outputs": [
    {
     "data": {
      "text/plain": [
       "<matplotlib.axes._subplots.AxesSubplot at 0x254886982b0>"
      ]
     },
     "execution_count": 138,
     "metadata": {},
     "output_type": "execute_result"
    },
    {
     "data": {
      "image/png": "[encoded data removed]",
      "text/plain": [
       "<Figure size 432x288 with 1 Axes>"
      ]
     },
     "metadata": {},
     "output_type": "display_data"
    }
   ],
   "source": [
    "sns.boxplot(x=ed_dfstats['HSD_%'])"
   ]
  },
  {
   "cell_type": "code",
   "execution_count": 139,
   "metadata": {},
   "outputs": [
    {
     "name": "stdout",
     "output_type": "stream",
     "text": [
      "HSD_%    26\n",
      "dtype: int64\n"
     ]
    }
   ],
   "source": [
    "Q1 = ed_dfprocess['HSD_%'].quantile(0.25) \n",
    "Q3 = ed_dfprocess['HSD_%'].quantile(0.75) \n",
    "IQR = Q3 - Q1\n",
    "print(((ed_dfstats[['HSD_%']] < (Q1 - 1.5 * IQR)) | (ed_dfstats[['HSD_%']] > (Q3 + 1.5 * IQR))).sum())\n",
    "\n",
    "q = ed_dfprocess['HSD_%'].quantile(0.99)\n",
    "ed_dfprocess = ed_dfprocess[ed_dfprocess['HSD_%']<q]"
   ]
  },
  {
   "cell_type": "code",
   "execution_count": 140,
   "metadata": {},
   "outputs": [
    {
     "data": {
      "text/plain": [
       "<matplotlib.axes._subplots.AxesSubplot at 0x25488606dd8>"
      ]
     },
     "execution_count": 140,
     "metadata": {},
     "output_type": "execute_result"
    },
    {
     "data": {
      "image/png": "[encoded data removed]",
      "text/plain": [
       "<Figure size 432x288 with 1 Axes>"
      ]
     },
     "metadata": {},
     "output_type": "display_data"
    }
   ],
   "source": [
    "sns.boxplot(x=ed_dfstats['ABD_%'])"
   ]
  },
  {
   "cell_type": "code",
   "execution_count": 141,
   "metadata": {},
   "outputs": [
    {
     "name": "stdout",
     "output_type": "stream",
     "text": [
      "ABD_%    28\n",
      "dtype: int64\n"
     ]
    }
   ],
   "source": [
    "Q1 = ed_dfprocess['ABD_%'].quantile(0.25) \n",
    "Q3 = ed_dfprocess['ABD_%'].quantile(0.75) \n",
    "IQR = Q3 - Q1\n",
    "print(((ed_dfstats[['ABD_%']] < (Q1 - 1.5 * IQR)) | (ed_dfstats[['ABD_%']] > (Q3 + 1.5 * IQR))).sum())\n",
    "\n",
    "q = ed_dfprocess['ABD_%'].quantile(0.99)\n",
    "ed_dfprocess = ed_dfprocess[ed_dfprocess['ABD_%']<q]"
   ]
  },
  {
   "cell_type": "code",
   "execution_count": 142,
   "metadata": {},
   "outputs": [
    {
     "data": {
      "text/plain": [
       "<matplotlib.axes._subplots.AxesSubplot at 0x2548b9a8e80>"
      ]
     },
     "execution_count": 142,
     "metadata": {},
     "output_type": "execute_result"
    },
    {
     "data": {
      "image/png": "[encoded data removed]",
      "text/plain": [
       "<Figure size 432x288 with 1 Axes>"
      ]
     },
     "metadata": {},
     "output_type": "display_data"
    }
   ],
   "source": [
    "sns.boxplot(x=ed_dfstats['BDH_%'])"
   ]
  },
  {
   "cell_type": "code",
   "execution_count": 143,
   "metadata": {},
   "outputs": [
    {
     "name": "stdout",
     "output_type": "stream",
     "text": [
      "BDH_%    131\n",
      "dtype: int64\n"
     ]
    }
   ],
   "source": [
    "Q1 = ed_dfprocess['BDH_%'].quantile(0.25) \n",
    "Q3 = ed_dfprocess['BDH_%'].quantile(0.75) \n",
    "IQR = Q3 - Q1\n",
    "print(((ed_dfstats[['BDH_%']] < (Q1 - 1.5 * IQR)) | (ed_dfstats[['BDH_%']] > (Q3 + 1.5 * IQR))).sum())\n",
    "\n",
    "q = ed_dfprocess['BDH_%'].quantile(0.99)\n",
    "ed_dfprocess = ed_dfprocess[ed_dfprocess['BDH_%']<q]"
   ]
  },
  {
   "cell_type": "code",
   "execution_count": 144,
   "metadata": {},
   "outputs": [],
   "source": [
    "ed_dfprocess = ed_dfprocess.dropna()"
   ]
  },
  {
   "cell_type": "code",
   "execution_count": 145,
   "metadata": {},
   "outputs": [
    {
     "name": "stdout",
     "output_type": "stream",
     "text": [
      "<class 'pandas.core.frame.DataFrame'>\n",
      "Int64Index: 3090 entries, 6 to 3286\n",
      "Data columns (total 9 columns):\n",
      "FIPS code    3090 non-null object\n",
      "State        3090 non-null object\n",
      "Area_name    3090 non-null object\n",
      "RUC_2013     3090 non-null object\n",
      "UIC_2013     3090 non-null object\n",
      "LHD_%        3090 non-null object\n",
      "HSD_%        3090 non-null object\n",
      "ABD_%        3090 non-null object\n",
      "BDH_%        3090 non-null object\n",
      "dtypes: object(9)\n",
      "memory usage: 241.4+ KB\n"
     ]
    }
   ],
   "source": [
    "ed_dfprocess.info()"
   ]
  },
  {
   "cell_type": "markdown",
   "metadata": {},
   "source": [
    "## Combining Datasets basing on FIPS code"
   ]
  },
  {
   "cell_type": "code",
   "execution_count": 146,
   "metadata": {},
   "outputs": [],
   "source": [
    "# rows = list(ed_dfprocess[ed_dfprocess['FIPS code'] != unemp_dfprocess['FIPS code']].index)\n",
    "\n",
    "# assert_frame_equal(unemp_dfprocess.iloc[:, 0:1], ed_dfprocess.iloc[:, 0:1], check_dtype=False)"
   ]
  },
  {
   "cell_type": "code",
   "execution_count": 147,
   "metadata": {},
   "outputs": [
    {
     "data": {
      "text/html": [
       "<div>\n",
       "<style scoped>\n",
       "    .dataframe tbody tr th:only-of-type {\n",
       "        vertical-align: middle;\n",
       "    }\n",
       "\n",
       "    .dataframe tbody tr th {\n",
       "        vertical-align: top;\n",
       "    }\n",
       "\n",
       "    .dataframe thead th {\n",
       "        text-align: right;\n",
       "    }\n",
       "</style>\n",
       "<table border=\"1\" class=\"dataframe\">\n",
       "  <thead>\n",
       "    <tr style=\"text-align: right;\">\n",
       "      <th></th>\n",
       "      <th>FIPS code</th>\n",
       "      <th>State</th>\n",
       "      <th>Area_name</th>\n",
       "      <th>RUC_2013</th>\n",
       "      <th>UIC_2013</th>\n",
       "      <th>Metro_2013</th>\n",
       "      <th>Uer_2012</th>\n",
       "      <th>Uer_2013</th>\n",
       "      <th>Uer_2014</th>\n",
       "      <th>Uer_2015</th>\n",
       "      <th>...</th>\n",
       "      <th>Medi_inc2016</th>\n",
       "      <th>Uer_Avg</th>\n",
       "      <th>LHD</th>\n",
       "      <th>HSD</th>\n",
       "      <th>ABD</th>\n",
       "      <th>BDH</th>\n",
       "      <th>LHD_%</th>\n",
       "      <th>HSD_%</th>\n",
       "      <th>ABD_%</th>\n",
       "      <th>BDH_%</th>\n",
       "    </tr>\n",
       "  </thead>\n",
       "  <tbody>\n",
       "    <tr>\n",
       "      <th>0</th>\n",
       "      <td>42095</td>\n",
       "      <td>PA</td>\n",
       "      <td>Northampton County, PA</td>\n",
       "      <td>2</td>\n",
       "      <td>2</td>\n",
       "      <td>1</td>\n",
       "      <td>8.1</td>\n",
       "      <td>7.4</td>\n",
       "      <td>5.9</td>\n",
       "      <td>5.3</td>\n",
       "      <td>...</td>\n",
       "      <td>115.5</td>\n",
       "      <td>6.38</td>\n",
       "      <td>19950</td>\n",
       "      <td>73199</td>\n",
       "      <td>57102</td>\n",
       "      <td>58066</td>\n",
       "      <td>9.577</td>\n",
       "      <td>35.138</td>\n",
       "      <td>27.4111</td>\n",
       "      <td>27.8739</td>\n",
       "    </tr>\n",
       "  </tbody>\n",
       "</table>\n",
       "<p>1 rows × 21 columns</p>\n",
       "</div>"
      ],
      "text/plain": [
       "  FIPS code State               Area_name RUC_2013 UIC_2013 Metro_2013  \\\n",
       "0     42095    PA  Northampton County, PA        2        2          1   \n",
       "\n",
       "   Uer_2012  Uer_2013  Uer_2014  Uer_2015   ...     Medi_inc2016 Uer_Avg  \\\n",
       "0       8.1       7.4       5.9       5.3   ...            115.5    6.38   \n",
       "\n",
       "     LHD    HSD    ABD    BDH  LHD_%   HSD_%    ABD_%    BDH_%  \n",
       "0  19950  73199  57102  58066  9.577  35.138  27.4111  27.8739  \n",
       "\n",
       "[1 rows x 21 columns]"
      ]
     },
     "execution_count": 147,
     "metadata": {},
     "output_type": "execute_result"
    }
   ],
   "source": [
    "ed_dfprocess_edit = ed_dfprocess.drop(['State','Area_name', 'RUC_2013', 'UIC_2013'], axis =1)\n",
    "merge_df = pd.merge(unemp_dfprocess, ed_dfprocess_edit, on=\"FIPS code\",  how='inner', suffixes=('_',''))\n",
    "merge_df.head()\n",
    "\n",
    "ed_nationaledit = ed_national.drop(['State','Area_name', 'RUC_2013', 'UIC_2013'], axis =1)\n",
    "merge_national = pd.merge(unemp_national, ed_nationaledit, on=\"FIPS code\",  how='inner', suffixes=('_',''))\n",
    "merge_df.head()\n",
    "\n",
    "\n",
    "\n",
    "ed_PAedit = ed_PA.drop(['State','Area_name', 'RUC_2013', 'UIC_2013'], axis =1)\n",
    "merge_PA = pd.merge(unemp_PA, ed_PAedit, on=\"FIPS code\",  how='inner', suffixes=('_',''))\n",
    "merge_PA.head()\n",
    "\n",
    "\n",
    "ed_LCedit = ed_LC.drop(['State','Area_name', 'RUC_2013', 'UIC_2013'], axis =1)\n",
    "merge_LC = pd.merge(unemp_LC, ed_LCedit, on=\"FIPS code\",  how='inner', suffixes=('_',''))\n",
    "merge_LC.head()\n",
    "\n",
    "ed_NCedit = ed_NC.drop(['State','Area_name', 'RUC_2013', 'UIC_2013'], axis =1)\n",
    "merge_NC = pd.merge(unemp_NC, ed_NCedit, on=\"FIPS code\",  how='inner', suffixes=('_',''))\n",
    "merge_NC.head()"
   ]
  },
  {
   "cell_type": "code",
   "execution_count": 148,
   "metadata": {},
   "outputs": [
    {
     "data": {
      "text/html": [
       "<div>\n",
       "<style scoped>\n",
       "    .dataframe tbody tr th:only-of-type {\n",
       "        vertical-align: middle;\n",
       "    }\n",
       "\n",
       "    .dataframe tbody tr th {\n",
       "        vertical-align: top;\n",
       "    }\n",
       "\n",
       "    .dataframe thead th {\n",
       "        text-align: right;\n",
       "    }\n",
       "</style>\n",
       "<table border=\"1\" class=\"dataframe\">\n",
       "  <thead>\n",
       "    <tr style=\"text-align: right;\">\n",
       "      <th></th>\n",
       "      <th>FIPS code</th>\n",
       "      <th>State</th>\n",
       "      <th>Area_name</th>\n",
       "      <th>RUC_2013</th>\n",
       "      <th>UIC_2013</th>\n",
       "      <th>Metro_2013</th>\n",
       "      <th>Uer_2012</th>\n",
       "      <th>Uer_2013</th>\n",
       "      <th>Uer_2014</th>\n",
       "      <th>Uer_2015</th>\n",
       "      <th>Uer_2016</th>\n",
       "      <th>Medi_inc2016</th>\n",
       "      <th>Uer_Avg</th>\n",
       "    </tr>\n",
       "  </thead>\n",
       "  <tbody>\n",
       "    <tr>\n",
       "      <th>2340</th>\n",
       "      <td>42095</td>\n",
       "      <td>PA</td>\n",
       "      <td>Northampton County, PA</td>\n",
       "      <td>2</td>\n",
       "      <td>2</td>\n",
       "      <td>1</td>\n",
       "      <td>8.1</td>\n",
       "      <td>7.4</td>\n",
       "      <td>5.9</td>\n",
       "      <td>5.3</td>\n",
       "      <td>5.2</td>\n",
       "      <td>115.5</td>\n",
       "      <td>6.38</td>\n",
       "    </tr>\n",
       "  </tbody>\n",
       "</table>\n",
       "</div>"
      ],
      "text/plain": [
       "     FIPS code State               Area_name RUC_2013 UIC_2013 Metro_2013  \\\n",
       "2340     42095    PA  Northampton County, PA        2        2          1   \n",
       "\n",
       "      Uer_2012  Uer_2013  Uer_2014  Uer_2015  Uer_2016 Medi_inc2016  Uer_Avg  \n",
       "2340       8.1       7.4       5.9       5.3       5.2        115.5     6.38  "
      ]
     },
     "execution_count": 148,
     "metadata": {},
     "output_type": "execute_result"
    }
   ],
   "source": [
    "unemp_NC.head()"
   ]
  },
  {
   "cell_type": "code",
   "execution_count": 149,
   "metadata": {},
   "outputs": [
    {
     "name": "stdout",
     "output_type": "stream",
     "text": [
      "<class 'pandas.core.frame.DataFrame'>\n",
      "Int64Index: 2972 entries, 0 to 2971\n",
      "Data columns (total 17 columns):\n",
      "FIPS code       2972 non-null object\n",
      "State           2972 non-null object\n",
      "Area_name       2972 non-null object\n",
      "RUC_2013        2972 non-null object\n",
      "UIC_2013        2972 non-null object\n",
      "Metro_2013      2972 non-null object\n",
      "Uer_2012        2972 non-null float64\n",
      "Uer_2013        2972 non-null float64\n",
      "Uer_2014        2972 non-null float64\n",
      "Uer_2015        2972 non-null float64\n",
      "Uer_2016        2972 non-null float64\n",
      "Medi_inc2016    2972 non-null object\n",
      "Uer_Avg         2972 non-null float64\n",
      "LHD_%           2972 non-null object\n",
      "HSD_%           2972 non-null object\n",
      "ABD_%           2972 non-null object\n",
      "BDH_%           2972 non-null object\n",
      "dtypes: float64(6), object(11)\n",
      "memory usage: 417.9+ KB\n"
     ]
    }
   ],
   "source": [
    "merge_df.info()"
   ]
  },
  {
   "cell_type": "code",
   "execution_count": 150,
   "metadata": {},
   "outputs": [
    {
     "data": {
      "text/html": [
       "<div>\n",
       "<style scoped>\n",
       "    .dataframe tbody tr th:only-of-type {\n",
       "        vertical-align: middle;\n",
       "    }\n",
       "\n",
       "    .dataframe tbody tr th {\n",
       "        vertical-align: top;\n",
       "    }\n",
       "\n",
       "    .dataframe thead th {\n",
       "        text-align: right;\n",
       "    }\n",
       "</style>\n",
       "<table border=\"1\" class=\"dataframe\">\n",
       "  <thead>\n",
       "    <tr style=\"text-align: right;\">\n",
       "      <th></th>\n",
       "      <th>FIPS code</th>\n",
       "      <th>State</th>\n",
       "      <th>Area_name</th>\n",
       "      <th>RUC_2013</th>\n",
       "      <th>UIC_2013</th>\n",
       "      <th>Metro_2013</th>\n",
       "      <th>Uer_2012</th>\n",
       "      <th>Uer_2013</th>\n",
       "      <th>Uer_2014</th>\n",
       "      <th>Uer_2015</th>\n",
       "      <th>Uer_2016</th>\n",
       "      <th>Medi_inc2016</th>\n",
       "      <th>Uer_Avg</th>\n",
       "      <th>LHD_%</th>\n",
       "      <th>HSD_%</th>\n",
       "      <th>ABD_%</th>\n",
       "      <th>BDH_%</th>\n",
       "    </tr>\n",
       "  </thead>\n",
       "  <tbody>\n",
       "    <tr>\n",
       "      <th>0</th>\n",
       "      <td>01001</td>\n",
       "      <td>AL</td>\n",
       "      <td>Autauga County, AL</td>\n",
       "      <td>2</td>\n",
       "      <td>2</td>\n",
       "      <td>1</td>\n",
       "      <td>6.9</td>\n",
       "      <td>6.2</td>\n",
       "      <td>5.8</td>\n",
       "      <td>5.2</td>\n",
       "      <td>5.1</td>\n",
       "      <td>117.7</td>\n",
       "      <td>5.84</td>\n",
       "      <td>12.417</td>\n",
       "      <td>34.331</td>\n",
       "      <td>28.6596</td>\n",
       "      <td>24.5928</td>\n",
       "    </tr>\n",
       "    <tr>\n",
       "      <th>1</th>\n",
       "      <td>01003</td>\n",
       "      <td>AL</td>\n",
       "      <td>Baldwin County, AL</td>\n",
       "      <td>3</td>\n",
       "      <td>2</td>\n",
       "      <td>1</td>\n",
       "      <td>7.5</td>\n",
       "      <td>6.6</td>\n",
       "      <td>6.1</td>\n",
       "      <td>5.5</td>\n",
       "      <td>5.4</td>\n",
       "      <td>121.9</td>\n",
       "      <td>6.22</td>\n",
       "      <td>9.972</td>\n",
       "      <td>28.692</td>\n",
       "      <td>31.788</td>\n",
       "      <td>29.5471</td>\n",
       "    </tr>\n",
       "    <tr>\n",
       "      <th>2</th>\n",
       "      <td>01005</td>\n",
       "      <td>AL</td>\n",
       "      <td>Barbour County, AL</td>\n",
       "      <td>6</td>\n",
       "      <td>6</td>\n",
       "      <td>0</td>\n",
       "      <td>11.5</td>\n",
       "      <td>10.2</td>\n",
       "      <td>10.5</td>\n",
       "      <td>8.9</td>\n",
       "      <td>8.4</td>\n",
       "      <td>71</td>\n",
       "      <td>9.90</td>\n",
       "      <td>26.236</td>\n",
       "      <td>34.927</td>\n",
       "      <td>25.9694</td>\n",
       "      <td>12.8678</td>\n",
       "    </tr>\n",
       "    <tr>\n",
       "      <th>3</th>\n",
       "      <td>01007</td>\n",
       "      <td>AL</td>\n",
       "      <td>Bibb County, AL</td>\n",
       "      <td>1</td>\n",
       "      <td>1</td>\n",
       "      <td>1</td>\n",
       "      <td>8.5</td>\n",
       "      <td>7.9</td>\n",
       "      <td>7.2</td>\n",
       "      <td>6.6</td>\n",
       "      <td>6.5</td>\n",
       "      <td>93</td>\n",
       "      <td>7.34</td>\n",
       "      <td>19.302</td>\n",
       "      <td>41.816</td>\n",
       "      <td>26.8825</td>\n",
       "      <td>12</td>\n",
       "    </tr>\n",
       "    <tr>\n",
       "      <th>4</th>\n",
       "      <td>01009</td>\n",
       "      <td>AL</td>\n",
       "      <td>Blount County, AL</td>\n",
       "      <td>1</td>\n",
       "      <td>1</td>\n",
       "      <td>1</td>\n",
       "      <td>6.9</td>\n",
       "      <td>6.3</td>\n",
       "      <td>6.1</td>\n",
       "      <td>5.4</td>\n",
       "      <td>5.4</td>\n",
       "      <td>102</td>\n",
       "      <td>6.02</td>\n",
       "      <td>19.969</td>\n",
       "      <td>32.942</td>\n",
       "      <td>34.0393</td>\n",
       "      <td>13.0498</td>\n",
       "    </tr>\n",
       "    <tr>\n",
       "      <th>5</th>\n",
       "      <td>01011</td>\n",
       "      <td>AL</td>\n",
       "      <td>Bullock County, AL</td>\n",
       "      <td>6</td>\n",
       "      <td>6</td>\n",
       "      <td>0</td>\n",
       "      <td>10.4</td>\n",
       "      <td>9.4</td>\n",
       "      <td>8.8</td>\n",
       "      <td>7.9</td>\n",
       "      <td>6.9</td>\n",
       "      <td>74</td>\n",
       "      <td>8.68</td>\n",
       "      <td>33.438</td>\n",
       "      <td>34.147</td>\n",
       "      <td>22.1601</td>\n",
       "      <td>10.255</td>\n",
       "    </tr>\n",
       "    <tr>\n",
       "      <th>6</th>\n",
       "      <td>01013</td>\n",
       "      <td>AL</td>\n",
       "      <td>Butler County, AL</td>\n",
       "      <td>6</td>\n",
       "      <td>6</td>\n",
       "      <td>0</td>\n",
       "      <td>11.5</td>\n",
       "      <td>10.3</td>\n",
       "      <td>8.5</td>\n",
       "      <td>7.6</td>\n",
       "      <td>6.9</td>\n",
       "      <td>76.5</td>\n",
       "      <td>8.96</td>\n",
       "      <td>18.94</td>\n",
       "      <td>39.852</td>\n",
       "      <td>25.1272</td>\n",
       "      <td>16.08</td>\n",
       "    </tr>\n",
       "    <tr>\n",
       "      <th>7</th>\n",
       "      <td>01015</td>\n",
       "      <td>AL</td>\n",
       "      <td>Calhoun County, AL</td>\n",
       "      <td>3</td>\n",
       "      <td>2</td>\n",
       "      <td>1</td>\n",
       "      <td>8.9</td>\n",
       "      <td>8.8</td>\n",
       "      <td>8.0</td>\n",
       "      <td>7.0</td>\n",
       "      <td>6.6</td>\n",
       "      <td>90.2</td>\n",
       "      <td>7.86</td>\n",
       "      <td>17.663</td>\n",
       "      <td>32.072</td>\n",
       "      <td>32.6121</td>\n",
       "      <td>17.653</td>\n",
       "    </tr>\n",
       "    <tr>\n",
       "      <th>8</th>\n",
       "      <td>01017</td>\n",
       "      <td>AL</td>\n",
       "      <td>Chambers County, AL</td>\n",
       "      <td>6</td>\n",
       "      <td>5</td>\n",
       "      <td>0</td>\n",
       "      <td>9.9</td>\n",
       "      <td>8.0</td>\n",
       "      <td>6.7</td>\n",
       "      <td>6.1</td>\n",
       "      <td>5.5</td>\n",
       "      <td>85.4</td>\n",
       "      <td>7.24</td>\n",
       "      <td>19.737</td>\n",
       "      <td>39.411</td>\n",
       "      <td>28.3684</td>\n",
       "      <td>12.4843</td>\n",
       "    </tr>\n",
       "    <tr>\n",
       "      <th>9</th>\n",
       "      <td>01019</td>\n",
       "      <td>AL</td>\n",
       "      <td>Cherokee County, AL</td>\n",
       "      <td>6</td>\n",
       "      <td>6</td>\n",
       "      <td>0</td>\n",
       "      <td>8.0</td>\n",
       "      <td>6.6</td>\n",
       "      <td>5.8</td>\n",
       "      <td>5.5</td>\n",
       "      <td>5.1</td>\n",
       "      <td>89.5</td>\n",
       "      <td>6.20</td>\n",
       "      <td>18.717</td>\n",
       "      <td>35.958</td>\n",
       "      <td>31.363</td>\n",
       "      <td>13.9617</td>\n",
       "    </tr>\n",
       "    <tr>\n",
       "      <th>10</th>\n",
       "      <td>01021</td>\n",
       "      <td>AL</td>\n",
       "      <td>Chilton County, AL</td>\n",
       "      <td>1</td>\n",
       "      <td>1</td>\n",
       "      <td>1</td>\n",
       "      <td>7.2</td>\n",
       "      <td>6.6</td>\n",
       "      <td>6.3</td>\n",
       "      <td>5.6</td>\n",
       "      <td>5.5</td>\n",
       "      <td>95.4</td>\n",
       "      <td>6.24</td>\n",
       "      <td>19.902</td>\n",
       "      <td>41.254</td>\n",
       "      <td>23.9886</td>\n",
       "      <td>14.8545</td>\n",
       "    </tr>\n",
       "    <tr>\n",
       "      <th>11</th>\n",
       "      <td>01023</td>\n",
       "      <td>AL</td>\n",
       "      <td>Choctaw County, AL</td>\n",
       "      <td>9</td>\n",
       "      <td>10</td>\n",
       "      <td>0</td>\n",
       "      <td>10.3</td>\n",
       "      <td>9.2</td>\n",
       "      <td>9.0</td>\n",
       "      <td>9.1</td>\n",
       "      <td>8.5</td>\n",
       "      <td>70.6</td>\n",
       "      <td>9.22</td>\n",
       "      <td>21.147</td>\n",
       "      <td>37.257</td>\n",
       "      <td>29.6359</td>\n",
       "      <td>11.9602</td>\n",
       "    </tr>\n",
       "    <tr>\n",
       "      <th>12</th>\n",
       "      <td>01025</td>\n",
       "      <td>AL</td>\n",
       "      <td>Clarke County, AL</td>\n",
       "      <td>7</td>\n",
       "      <td>11</td>\n",
       "      <td>0</td>\n",
       "      <td>15.0</td>\n",
       "      <td>13.8</td>\n",
       "      <td>12.2</td>\n",
       "      <td>11.7</td>\n",
       "      <td>10.9</td>\n",
       "      <td>73.6</td>\n",
       "      <td>12.72</td>\n",
       "      <td>18.958</td>\n",
       "      <td>45.118</td>\n",
       "      <td>23.7869</td>\n",
       "      <td>12.1372</td>\n",
       "    </tr>\n",
       "    <tr>\n",
       "      <th>13</th>\n",
       "      <td>01027</td>\n",
       "      <td>AL</td>\n",
       "      <td>Clay County, AL</td>\n",
       "      <td>9</td>\n",
       "      <td>10</td>\n",
       "      <td>0</td>\n",
       "      <td>9.4</td>\n",
       "      <td>8.3</td>\n",
       "      <td>7.1</td>\n",
       "      <td>6.1</td>\n",
       "      <td>6.0</td>\n",
       "      <td>83.2</td>\n",
       "      <td>7.38</td>\n",
       "      <td>25.386</td>\n",
       "      <td>34.575</td>\n",
       "      <td>28.9752</td>\n",
       "      <td>11.0629</td>\n",
       "    </tr>\n",
       "    <tr>\n",
       "      <th>14</th>\n",
       "      <td>01029</td>\n",
       "      <td>AL</td>\n",
       "      <td>Cleburne County, AL</td>\n",
       "      <td>8</td>\n",
       "      <td>4</td>\n",
       "      <td>0</td>\n",
       "      <td>8.2</td>\n",
       "      <td>7.7</td>\n",
       "      <td>6.6</td>\n",
       "      <td>6.0</td>\n",
       "      <td>6.0</td>\n",
       "      <td>93.9</td>\n",
       "      <td>6.90</td>\n",
       "      <td>25.815</td>\n",
       "      <td>37.97</td>\n",
       "      <td>24.6865</td>\n",
       "      <td>11.5281</td>\n",
       "    </tr>\n",
       "    <tr>\n",
       "      <th>15</th>\n",
       "      <td>01031</td>\n",
       "      <td>AL</td>\n",
       "      <td>Coffee County, AL</td>\n",
       "      <td>4</td>\n",
       "      <td>5</td>\n",
       "      <td>0</td>\n",
       "      <td>7.0</td>\n",
       "      <td>6.9</td>\n",
       "      <td>6.6</td>\n",
       "      <td>6.0</td>\n",
       "      <td>5.9</td>\n",
       "      <td>105</td>\n",
       "      <td>6.48</td>\n",
       "      <td>14.864</td>\n",
       "      <td>29.344</td>\n",
       "      <td>32.1257</td>\n",
       "      <td>23.6667</td>\n",
       "    </tr>\n",
       "    <tr>\n",
       "      <th>16</th>\n",
       "      <td>01033</td>\n",
       "      <td>AL</td>\n",
       "      <td>Colbert County, AL</td>\n",
       "      <td>3</td>\n",
       "      <td>2</td>\n",
       "      <td>1</td>\n",
       "      <td>8.8</td>\n",
       "      <td>8.2</td>\n",
       "      <td>8.3</td>\n",
       "      <td>7.9</td>\n",
       "      <td>7.0</td>\n",
       "      <td>100.6</td>\n",
       "      <td>8.04</td>\n",
       "      <td>16.577</td>\n",
       "      <td>34.849</td>\n",
       "      <td>30.1037</td>\n",
       "      <td>18.4709</td>\n",
       "    </tr>\n",
       "    <tr>\n",
       "      <th>17</th>\n",
       "      <td>01035</td>\n",
       "      <td>AL</td>\n",
       "      <td>Conecuh County, AL</td>\n",
       "      <td>7</td>\n",
       "      <td>11</td>\n",
       "      <td>0</td>\n",
       "      <td>11.9</td>\n",
       "      <td>10.7</td>\n",
       "      <td>10.3</td>\n",
       "      <td>9.2</td>\n",
       "      <td>8.4</td>\n",
       "      <td>64.3</td>\n",
       "      <td>10.10</td>\n",
       "      <td>20.572</td>\n",
       "      <td>46.208</td>\n",
       "      <td>24.5572</td>\n",
       "      <td>8.66258</td>\n",
       "    </tr>\n",
       "    <tr>\n",
       "      <th>18</th>\n",
       "      <td>01037</td>\n",
       "      <td>AL</td>\n",
       "      <td>Coosa County, AL</td>\n",
       "      <td>8</td>\n",
       "      <td>3</td>\n",
       "      <td>0</td>\n",
       "      <td>9.4</td>\n",
       "      <td>9.2</td>\n",
       "      <td>8.8</td>\n",
       "      <td>6.7</td>\n",
       "      <td>6.0</td>\n",
       "      <td>78.7</td>\n",
       "      <td>8.02</td>\n",
       "      <td>27.065</td>\n",
       "      <td>36.335</td>\n",
       "      <td>26.6599</td>\n",
       "      <td>9.94056</td>\n",
       "    </tr>\n",
       "    <tr>\n",
       "      <th>19</th>\n",
       "      <td>01039</td>\n",
       "      <td>AL</td>\n",
       "      <td>Covington County, AL</td>\n",
       "      <td>6</td>\n",
       "      <td>6</td>\n",
       "      <td>0</td>\n",
       "      <td>8.4</td>\n",
       "      <td>8.1</td>\n",
       "      <td>7.8</td>\n",
       "      <td>7.1</td>\n",
       "      <td>6.8</td>\n",
       "      <td>75.6</td>\n",
       "      <td>7.64</td>\n",
       "      <td>19.066</td>\n",
       "      <td>34.407</td>\n",
       "      <td>31.6058</td>\n",
       "      <td>14.9215</td>\n",
       "    </tr>\n",
       "    <tr>\n",
       "      <th>20</th>\n",
       "      <td>01041</td>\n",
       "      <td>AL</td>\n",
       "      <td>Crenshaw County, AL</td>\n",
       "      <td>8</td>\n",
       "      <td>6</td>\n",
       "      <td>0</td>\n",
       "      <td>8.3</td>\n",
       "      <td>7.7</td>\n",
       "      <td>6.9</td>\n",
       "      <td>6.0</td>\n",
       "      <td>5.9</td>\n",
       "      <td>80.7</td>\n",
       "      <td>6.96</td>\n",
       "      <td>21.684</td>\n",
       "      <td>38.53</td>\n",
       "      <td>25.1387</td>\n",
       "      <td>14.6477</td>\n",
       "    </tr>\n",
       "    <tr>\n",
       "      <th>21</th>\n",
       "      <td>01043</td>\n",
       "      <td>AL</td>\n",
       "      <td>Cullman County, AL</td>\n",
       "      <td>4</td>\n",
       "      <td>3</td>\n",
       "      <td>0</td>\n",
       "      <td>7.7</td>\n",
       "      <td>6.7</td>\n",
       "      <td>6.1</td>\n",
       "      <td>5.3</td>\n",
       "      <td>5.0</td>\n",
       "      <td>89.7</td>\n",
       "      <td>6.16</td>\n",
       "      <td>17.844</td>\n",
       "      <td>35.126</td>\n",
       "      <td>32.0615</td>\n",
       "      <td>14.969</td>\n",
       "    </tr>\n",
       "    <tr>\n",
       "      <th>22</th>\n",
       "      <td>01045</td>\n",
       "      <td>AL</td>\n",
       "      <td>Dale County, AL</td>\n",
       "      <td>4</td>\n",
       "      <td>5</td>\n",
       "      <td>0</td>\n",
       "      <td>7.4</td>\n",
       "      <td>7.4</td>\n",
       "      <td>7.1</td>\n",
       "      <td>6.4</td>\n",
       "      <td>5.8</td>\n",
       "      <td>87.5</td>\n",
       "      <td>6.82</td>\n",
       "      <td>14.165</td>\n",
       "      <td>33.07</td>\n",
       "      <td>36.6963</td>\n",
       "      <td>16.0687</td>\n",
       "    </tr>\n",
       "    <tr>\n",
       "      <th>23</th>\n",
       "      <td>01047</td>\n",
       "      <td>AL</td>\n",
       "      <td>Dallas County, AL</td>\n",
       "      <td>4</td>\n",
       "      <td>5</td>\n",
       "      <td>0</td>\n",
       "      <td>12.9</td>\n",
       "      <td>12.2</td>\n",
       "      <td>11.2</td>\n",
       "      <td>9.6</td>\n",
       "      <td>9.2</td>\n",
       "      <td>65.8</td>\n",
       "      <td>11.02</td>\n",
       "      <td>20.982</td>\n",
       "      <td>36.456</td>\n",
       "      <td>28.778</td>\n",
       "      <td>13.7843</td>\n",
       "    </tr>\n",
       "    <tr>\n",
       "      <th>24</th>\n",
       "      <td>01049</td>\n",
       "      <td>AL</td>\n",
       "      <td>DeKalb County, AL</td>\n",
       "      <td>6</td>\n",
       "      <td>6</td>\n",
       "      <td>0</td>\n",
       "      <td>9.0</td>\n",
       "      <td>7.6</td>\n",
       "      <td>6.9</td>\n",
       "      <td>6.1</td>\n",
       "      <td>6.1</td>\n",
       "      <td>80.2</td>\n",
       "      <td>7.14</td>\n",
       "      <td>27.363</td>\n",
       "      <td>34.273</td>\n",
       "      <td>26.9983</td>\n",
       "      <td>11.3659</td>\n",
       "    </tr>\n",
       "    <tr>\n",
       "      <th>25</th>\n",
       "      <td>01051</td>\n",
       "      <td>AL</td>\n",
       "      <td>Elmore County, AL</td>\n",
       "      <td>2</td>\n",
       "      <td>2</td>\n",
       "      <td>1</td>\n",
       "      <td>6.9</td>\n",
       "      <td>6.2</td>\n",
       "      <td>5.7</td>\n",
       "      <td>5.0</td>\n",
       "      <td>4.8</td>\n",
       "      <td>117.8</td>\n",
       "      <td>5.72</td>\n",
       "      <td>13.172</td>\n",
       "      <td>35.443</td>\n",
       "      <td>29.1465</td>\n",
       "      <td>22.2384</td>\n",
       "    </tr>\n",
       "    <tr>\n",
       "      <th>26</th>\n",
       "      <td>01053</td>\n",
       "      <td>AL</td>\n",
       "      <td>Escambia County, AL</td>\n",
       "      <td>6</td>\n",
       "      <td>6</td>\n",
       "      <td>0</td>\n",
       "      <td>9.2</td>\n",
       "      <td>8.6</td>\n",
       "      <td>8.0</td>\n",
       "      <td>7.0</td>\n",
       "      <td>6.7</td>\n",
       "      <td>75.8</td>\n",
       "      <td>7.90</td>\n",
       "      <td>19.544</td>\n",
       "      <td>43.432</td>\n",
       "      <td>25.3979</td>\n",
       "      <td>11.6257</td>\n",
       "    </tr>\n",
       "    <tr>\n",
       "      <th>27</th>\n",
       "      <td>01055</td>\n",
       "      <td>AL</td>\n",
       "      <td>Etowah County, AL</td>\n",
       "      <td>3</td>\n",
       "      <td>2</td>\n",
       "      <td>1</td>\n",
       "      <td>8.2</td>\n",
       "      <td>7.6</td>\n",
       "      <td>7.0</td>\n",
       "      <td>6.2</td>\n",
       "      <td>5.9</td>\n",
       "      <td>88.5</td>\n",
       "      <td>6.98</td>\n",
       "      <td>17.549</td>\n",
       "      <td>32.546</td>\n",
       "      <td>33.4133</td>\n",
       "      <td>16.4919</td>\n",
       "    </tr>\n",
       "    <tr>\n",
       "      <th>28</th>\n",
       "      <td>01057</td>\n",
       "      <td>AL</td>\n",
       "      <td>Fayette County, AL</td>\n",
       "      <td>6</td>\n",
       "      <td>6</td>\n",
       "      <td>0</td>\n",
       "      <td>8.6</td>\n",
       "      <td>8.3</td>\n",
       "      <td>7.8</td>\n",
       "      <td>7.0</td>\n",
       "      <td>6.7</td>\n",
       "      <td>82.9</td>\n",
       "      <td>7.68</td>\n",
       "      <td>20.769</td>\n",
       "      <td>39.039</td>\n",
       "      <td>26.0461</td>\n",
       "      <td>14.1453</td>\n",
       "    </tr>\n",
       "    <tr>\n",
       "      <th>29</th>\n",
       "      <td>01059</td>\n",
       "      <td>AL</td>\n",
       "      <td>Franklin County, AL</td>\n",
       "      <td>6</td>\n",
       "      <td>6</td>\n",
       "      <td>0</td>\n",
       "      <td>8.4</td>\n",
       "      <td>8.0</td>\n",
       "      <td>7.7</td>\n",
       "      <td>6.4</td>\n",
       "      <td>5.9</td>\n",
       "      <td>80</td>\n",
       "      <td>7.28</td>\n",
       "      <td>24.331</td>\n",
       "      <td>36.688</td>\n",
       "      <td>26.5912</td>\n",
       "      <td>12.3901</td>\n",
       "    </tr>\n",
       "    <tr>\n",
       "      <th>...</th>\n",
       "      <td>...</td>\n",
       "      <td>...</td>\n",
       "      <td>...</td>\n",
       "      <td>...</td>\n",
       "      <td>...</td>\n",
       "      <td>...</td>\n",
       "      <td>...</td>\n",
       "      <td>...</td>\n",
       "      <td>...</td>\n",
       "      <td>...</td>\n",
       "      <td>...</td>\n",
       "      <td>...</td>\n",
       "      <td>...</td>\n",
       "      <td>...</td>\n",
       "      <td>...</td>\n",
       "      <td>...</td>\n",
       "      <td>...</td>\n",
       "    </tr>\n",
       "    <tr>\n",
       "      <th>2942</th>\n",
       "      <td>55125</td>\n",
       "      <td>WI</td>\n",
       "      <td>Vilas County, WI</td>\n",
       "      <td>9</td>\n",
       "      <td>12</td>\n",
       "      <td>0</td>\n",
       "      <td>10.0</td>\n",
       "      <td>10.1</td>\n",
       "      <td>8.4</td>\n",
       "      <td>7.0</td>\n",
       "      <td>5.6</td>\n",
       "      <td>80.8</td>\n",
       "      <td>8.22</td>\n",
       "      <td>7.548</td>\n",
       "      <td>31.159</td>\n",
       "      <td>34.4807</td>\n",
       "      <td>26.8116</td>\n",
       "    </tr>\n",
       "    <tr>\n",
       "      <th>2943</th>\n",
       "      <td>55127</td>\n",
       "      <td>WI</td>\n",
       "      <td>Walworth County, WI</td>\n",
       "      <td>4</td>\n",
       "      <td>3</td>\n",
       "      <td>0</td>\n",
       "      <td>7.2</td>\n",
       "      <td>6.8</td>\n",
       "      <td>5.5</td>\n",
       "      <td>4.6</td>\n",
       "      <td>4.0</td>\n",
       "      <td>103.7</td>\n",
       "      <td>5.62</td>\n",
       "      <td>9.075</td>\n",
       "      <td>31.629</td>\n",
       "      <td>31.4776</td>\n",
       "      <td>27.8182</td>\n",
       "    </tr>\n",
       "    <tr>\n",
       "      <th>2944</th>\n",
       "      <td>55129</td>\n",
       "      <td>WI</td>\n",
       "      <td>Washburn County, WI</td>\n",
       "      <td>7</td>\n",
       "      <td>11</td>\n",
       "      <td>0</td>\n",
       "      <td>7.9</td>\n",
       "      <td>7.4</td>\n",
       "      <td>6.2</td>\n",
       "      <td>5.4</td>\n",
       "      <td>5.0</td>\n",
       "      <td>82.7</td>\n",
       "      <td>6.38</td>\n",
       "      <td>8.246</td>\n",
       "      <td>37.874</td>\n",
       "      <td>32.3115</td>\n",
       "      <td>21.5693</td>\n",
       "    </tr>\n",
       "    <tr>\n",
       "      <th>2945</th>\n",
       "      <td>55131</td>\n",
       "      <td>WI</td>\n",
       "      <td>Washington County, WI</td>\n",
       "      <td>1</td>\n",
       "      <td>1</td>\n",
       "      <td>1</td>\n",
       "      <td>6.1</td>\n",
       "      <td>5.7</td>\n",
       "      <td>4.5</td>\n",
       "      <td>3.7</td>\n",
       "      <td>3.3</td>\n",
       "      <td>131.4</td>\n",
       "      <td>4.66</td>\n",
       "      <td>6.073</td>\n",
       "      <td>30.442</td>\n",
       "      <td>34.0629</td>\n",
       "      <td>29.4221</td>\n",
       "    </tr>\n",
       "    <tr>\n",
       "      <th>2946</th>\n",
       "      <td>55133</td>\n",
       "      <td>WI</td>\n",
       "      <td>Waukesha County, WI</td>\n",
       "      <td>1</td>\n",
       "      <td>1</td>\n",
       "      <td>1</td>\n",
       "      <td>5.8</td>\n",
       "      <td>5.5</td>\n",
       "      <td>4.4</td>\n",
       "      <td>3.8</td>\n",
       "      <td>3.4</td>\n",
       "      <td>144.5</td>\n",
       "      <td>4.58</td>\n",
       "      <td>4.116</td>\n",
       "      <td>24.173</td>\n",
       "      <td>30.087</td>\n",
       "      <td>41.6234</td>\n",
       "    </tr>\n",
       "    <tr>\n",
       "      <th>2947</th>\n",
       "      <td>55135</td>\n",
       "      <td>WI</td>\n",
       "      <td>Waupaca County, WI</td>\n",
       "      <td>6</td>\n",
       "      <td>6</td>\n",
       "      <td>0</td>\n",
       "      <td>7.6</td>\n",
       "      <td>7.3</td>\n",
       "      <td>5.7</td>\n",
       "      <td>4.6</td>\n",
       "      <td>3.9</td>\n",
       "      <td>91.8</td>\n",
       "      <td>5.82</td>\n",
       "      <td>9.145</td>\n",
       "      <td>43.062</td>\n",
       "      <td>30.128</td>\n",
       "      <td>17.6643</td>\n",
       "    </tr>\n",
       "    <tr>\n",
       "      <th>2948</th>\n",
       "      <td>55137</td>\n",
       "      <td>WI</td>\n",
       "      <td>Waushara County, WI</td>\n",
       "      <td>6</td>\n",
       "      <td>6</td>\n",
       "      <td>0</td>\n",
       "      <td>8.8</td>\n",
       "      <td>8.6</td>\n",
       "      <td>7.1</td>\n",
       "      <td>6.3</td>\n",
       "      <td>5.0</td>\n",
       "      <td>83.8</td>\n",
       "      <td>7.16</td>\n",
       "      <td>13.761</td>\n",
       "      <td>41.768</td>\n",
       "      <td>29.3861</td>\n",
       "      <td>15.0847</td>\n",
       "    </tr>\n",
       "    <tr>\n",
       "      <th>2949</th>\n",
       "      <td>55139</td>\n",
       "      <td>WI</td>\n",
       "      <td>Winnebago County, WI</td>\n",
       "      <td>3</td>\n",
       "      <td>2</td>\n",
       "      <td>1</td>\n",
       "      <td>6.7</td>\n",
       "      <td>6.4</td>\n",
       "      <td>5.2</td>\n",
       "      <td>4.2</td>\n",
       "      <td>3.6</td>\n",
       "      <td>100.3</td>\n",
       "      <td>5.22</td>\n",
       "      <td>7.894</td>\n",
       "      <td>33.979</td>\n",
       "      <td>31.2401</td>\n",
       "      <td>26.8869</td>\n",
       "    </tr>\n",
       "    <tr>\n",
       "      <th>2950</th>\n",
       "      <td>55141</td>\n",
       "      <td>WI</td>\n",
       "      <td>Wood County, WI</td>\n",
       "      <td>4</td>\n",
       "      <td>5</td>\n",
       "      <td>0</td>\n",
       "      <td>7.5</td>\n",
       "      <td>7.3</td>\n",
       "      <td>6.7</td>\n",
       "      <td>5.5</td>\n",
       "      <td>4.7</td>\n",
       "      <td>92.6</td>\n",
       "      <td>6.34</td>\n",
       "      <td>7.658</td>\n",
       "      <td>38.891</td>\n",
       "      <td>33.0683</td>\n",
       "      <td>20.3825</td>\n",
       "    </tr>\n",
       "    <tr>\n",
       "      <th>2951</th>\n",
       "      <td>56001</td>\n",
       "      <td>WY</td>\n",
       "      <td>Albany County, WY</td>\n",
       "      <td>4</td>\n",
       "      <td>5</td>\n",
       "      <td>0</td>\n",
       "      <td>4.3</td>\n",
       "      <td>3.8</td>\n",
       "      <td>3.4</td>\n",
       "      <td>3.2</td>\n",
       "      <td>3.2</td>\n",
       "      <td>76.8</td>\n",
       "      <td>3.58</td>\n",
       "      <td>4.21</td>\n",
       "      <td>16.753</td>\n",
       "      <td>31.1738</td>\n",
       "      <td>47.8632</td>\n",
       "    </tr>\n",
       "    <tr>\n",
       "      <th>2952</th>\n",
       "      <td>56003</td>\n",
       "      <td>WY</td>\n",
       "      <td>Big Horn County, WY</td>\n",
       "      <td>9</td>\n",
       "      <td>12</td>\n",
       "      <td>0</td>\n",
       "      <td>5.6</td>\n",
       "      <td>5.2</td>\n",
       "      <td>4.5</td>\n",
       "      <td>4.5</td>\n",
       "      <td>4.9</td>\n",
       "      <td>80.6</td>\n",
       "      <td>4.94</td>\n",
       "      <td>10.418</td>\n",
       "      <td>29.886</td>\n",
       "      <td>40.3904</td>\n",
       "      <td>19.3063</td>\n",
       "    </tr>\n",
       "    <tr>\n",
       "      <th>2953</th>\n",
       "      <td>56005</td>\n",
       "      <td>WY</td>\n",
       "      <td>Campbell County, WY</td>\n",
       "      <td>5</td>\n",
       "      <td>8</td>\n",
       "      <td>0</td>\n",
       "      <td>4.6</td>\n",
       "      <td>4.2</td>\n",
       "      <td>3.3</td>\n",
       "      <td>4.0</td>\n",
       "      <td>7.1</td>\n",
       "      <td>128.3</td>\n",
       "      <td>4.64</td>\n",
       "      <td>8.33</td>\n",
       "      <td>34.868</td>\n",
       "      <td>37.7378</td>\n",
       "      <td>19.064</td>\n",
       "    </tr>\n",
       "    <tr>\n",
       "      <th>2954</th>\n",
       "      <td>56007</td>\n",
       "      <td>WY</td>\n",
       "      <td>Carbon County, WY</td>\n",
       "      <td>7</td>\n",
       "      <td>9</td>\n",
       "      <td>0</td>\n",
       "      <td>5.2</td>\n",
       "      <td>4.3</td>\n",
       "      <td>4.0</td>\n",
       "      <td>3.7</td>\n",
       "      <td>4.6</td>\n",
       "      <td>95.8</td>\n",
       "      <td>4.36</td>\n",
       "      <td>9.58</td>\n",
       "      <td>34.778</td>\n",
       "      <td>35.324</td>\n",
       "      <td>20.3184</td>\n",
       "    </tr>\n",
       "    <tr>\n",
       "      <th>2955</th>\n",
       "      <td>56009</td>\n",
       "      <td>WY</td>\n",
       "      <td>Converse County, WY</td>\n",
       "      <td>6</td>\n",
       "      <td>6</td>\n",
       "      <td>0</td>\n",
       "      <td>4.3</td>\n",
       "      <td>3.7</td>\n",
       "      <td>3.0</td>\n",
       "      <td>3.7</td>\n",
       "      <td>6.2</td>\n",
       "      <td>115.9</td>\n",
       "      <td>4.18</td>\n",
       "      <td>9.758</td>\n",
       "      <td>37.873</td>\n",
       "      <td>36.8372</td>\n",
       "      <td>15.5318</td>\n",
       "    </tr>\n",
       "    <tr>\n",
       "      <th>2956</th>\n",
       "      <td>56011</td>\n",
       "      <td>WY</td>\n",
       "      <td>Crook County, WY</td>\n",
       "      <td>9</td>\n",
       "      <td>10</td>\n",
       "      <td>0</td>\n",
       "      <td>4.9</td>\n",
       "      <td>4.4</td>\n",
       "      <td>3.9</td>\n",
       "      <td>3.5</td>\n",
       "      <td>4.5</td>\n",
       "      <td>98.8</td>\n",
       "      <td>4.24</td>\n",
       "      <td>6.065</td>\n",
       "      <td>32.557</td>\n",
       "      <td>40.0117</td>\n",
       "      <td>21.3657</td>\n",
       "    </tr>\n",
       "    <tr>\n",
       "      <th>2957</th>\n",
       "      <td>56013</td>\n",
       "      <td>WY</td>\n",
       "      <td>Fremont County, WY</td>\n",
       "      <td>7</td>\n",
       "      <td>8</td>\n",
       "      <td>0</td>\n",
       "      <td>6.0</td>\n",
       "      <td>5.7</td>\n",
       "      <td>5.0</td>\n",
       "      <td>5.6</td>\n",
       "      <td>7.1</td>\n",
       "      <td>79.9</td>\n",
       "      <td>5.88</td>\n",
       "      <td>8.537</td>\n",
       "      <td>32.517</td>\n",
       "      <td>36.5948</td>\n",
       "      <td>22.3513</td>\n",
       "    </tr>\n",
       "    <tr>\n",
       "      <th>2958</th>\n",
       "      <td>56015</td>\n",
       "      <td>WY</td>\n",
       "      <td>Goshen County, WY</td>\n",
       "      <td>7</td>\n",
       "      <td>9</td>\n",
       "      <td>0</td>\n",
       "      <td>4.7</td>\n",
       "      <td>4.2</td>\n",
       "      <td>3.6</td>\n",
       "      <td>3.3</td>\n",
       "      <td>3.4</td>\n",
       "      <td>77.4</td>\n",
       "      <td>3.84</td>\n",
       "      <td>8.391</td>\n",
       "      <td>29.673</td>\n",
       "      <td>38.9728</td>\n",
       "      <td>22.9631</td>\n",
       "    </tr>\n",
       "    <tr>\n",
       "      <th>2959</th>\n",
       "      <td>56017</td>\n",
       "      <td>WY</td>\n",
       "      <td>Hot Springs County, WY</td>\n",
       "      <td>7</td>\n",
       "      <td>9</td>\n",
       "      <td>0</td>\n",
       "      <td>4.7</td>\n",
       "      <td>4.7</td>\n",
       "      <td>4.1</td>\n",
       "      <td>4.2</td>\n",
       "      <td>4.7</td>\n",
       "      <td>74.6</td>\n",
       "      <td>4.48</td>\n",
       "      <td>8.448</td>\n",
       "      <td>27.609</td>\n",
       "      <td>41.6068</td>\n",
       "      <td>22.3357</td>\n",
       "    </tr>\n",
       "    <tr>\n",
       "      <th>2960</th>\n",
       "      <td>56019</td>\n",
       "      <td>WY</td>\n",
       "      <td>Johnson County, WY</td>\n",
       "      <td>7</td>\n",
       "      <td>9</td>\n",
       "      <td>0</td>\n",
       "      <td>5.3</td>\n",
       "      <td>5.1</td>\n",
       "      <td>4.5</td>\n",
       "      <td>4.9</td>\n",
       "      <td>5.3</td>\n",
       "      <td>91.3</td>\n",
       "      <td>5.02</td>\n",
       "      <td>5.106</td>\n",
       "      <td>33.212</td>\n",
       "      <td>36.2194</td>\n",
       "      <td>25.4627</td>\n",
       "    </tr>\n",
       "    <tr>\n",
       "      <th>2961</th>\n",
       "      <td>56021</td>\n",
       "      <td>WY</td>\n",
       "      <td>Laramie County, WY</td>\n",
       "      <td>3</td>\n",
       "      <td>2</td>\n",
       "      <td>1</td>\n",
       "      <td>5.8</td>\n",
       "      <td>4.8</td>\n",
       "      <td>4.3</td>\n",
       "      <td>4.0</td>\n",
       "      <td>4.1</td>\n",
       "      <td>99.1</td>\n",
       "      <td>4.60</td>\n",
       "      <td>6.712</td>\n",
       "      <td>26.531</td>\n",
       "      <td>39.1041</td>\n",
       "      <td>27.6527</td>\n",
       "    </tr>\n",
       "    <tr>\n",
       "      <th>2962</th>\n",
       "      <td>56023</td>\n",
       "      <td>WY</td>\n",
       "      <td>Lincoln County, WY</td>\n",
       "      <td>7</td>\n",
       "      <td>9</td>\n",
       "      <td>0</td>\n",
       "      <td>7.1</td>\n",
       "      <td>5.7</td>\n",
       "      <td>5.1</td>\n",
       "      <td>4.7</td>\n",
       "      <td>4.6</td>\n",
       "      <td>103.6</td>\n",
       "      <td>5.44</td>\n",
       "      <td>6.95</td>\n",
       "      <td>31.267</td>\n",
       "      <td>41.4145</td>\n",
       "      <td>20.3687</td>\n",
       "    </tr>\n",
       "    <tr>\n",
       "      <th>2963</th>\n",
       "      <td>56025</td>\n",
       "      <td>WY</td>\n",
       "      <td>Natrona County, WY</td>\n",
       "      <td>3</td>\n",
       "      <td>2</td>\n",
       "      <td>1</td>\n",
       "      <td>5.1</td>\n",
       "      <td>4.5</td>\n",
       "      <td>4.0</td>\n",
       "      <td>4.9</td>\n",
       "      <td>7.1</td>\n",
       "      <td>98.2</td>\n",
       "      <td>5.12</td>\n",
       "      <td>8.332</td>\n",
       "      <td>29.141</td>\n",
       "      <td>40.3138</td>\n",
       "      <td>22.2132</td>\n",
       "    </tr>\n",
       "    <tr>\n",
       "      <th>2964</th>\n",
       "      <td>56029</td>\n",
       "      <td>WY</td>\n",
       "      <td>Park County, WY</td>\n",
       "      <td>7</td>\n",
       "      <td>11</td>\n",
       "      <td>0</td>\n",
       "      <td>5.5</td>\n",
       "      <td>5.1</td>\n",
       "      <td>4.5</td>\n",
       "      <td>4.3</td>\n",
       "      <td>4.7</td>\n",
       "      <td>98.3</td>\n",
       "      <td>4.82</td>\n",
       "      <td>5.748</td>\n",
       "      <td>25.468</td>\n",
       "      <td>36.7827</td>\n",
       "      <td>32.0014</td>\n",
       "    </tr>\n",
       "    <tr>\n",
       "      <th>2965</th>\n",
       "      <td>56031</td>\n",
       "      <td>WY</td>\n",
       "      <td>Platte County, WY</td>\n",
       "      <td>7</td>\n",
       "      <td>11</td>\n",
       "      <td>0</td>\n",
       "      <td>4.9</td>\n",
       "      <td>4.4</td>\n",
       "      <td>3.8</td>\n",
       "      <td>3.9</td>\n",
       "      <td>4.7</td>\n",
       "      <td>88.5</td>\n",
       "      <td>4.34</td>\n",
       "      <td>9.676</td>\n",
       "      <td>32.332</td>\n",
       "      <td>38.2925</td>\n",
       "      <td>19.6996</td>\n",
       "    </tr>\n",
       "    <tr>\n",
       "      <th>2966</th>\n",
       "      <td>56033</td>\n",
       "      <td>WY</td>\n",
       "      <td>Sheridan County, WY</td>\n",
       "      <td>7</td>\n",
       "      <td>8</td>\n",
       "      <td>0</td>\n",
       "      <td>6.2</td>\n",
       "      <td>5.5</td>\n",
       "      <td>4.6</td>\n",
       "      <td>4.3</td>\n",
       "      <td>4.7</td>\n",
       "      <td>86</td>\n",
       "      <td>5.06</td>\n",
       "      <td>6.135</td>\n",
       "      <td>24.898</td>\n",
       "      <td>38.8414</td>\n",
       "      <td>30.1255</td>\n",
       "    </tr>\n",
       "    <tr>\n",
       "      <th>2967</th>\n",
       "      <td>56035</td>\n",
       "      <td>WY</td>\n",
       "      <td>Sublette County, WY</td>\n",
       "      <td>9</td>\n",
       "      <td>10</td>\n",
       "      <td>0</td>\n",
       "      <td>4.9</td>\n",
       "      <td>4.7</td>\n",
       "      <td>4.3</td>\n",
       "      <td>5.2</td>\n",
       "      <td>6.4</td>\n",
       "      <td>117</td>\n",
       "      <td>5.10</td>\n",
       "      <td>4.659</td>\n",
       "      <td>37.543</td>\n",
       "      <td>33.4432</td>\n",
       "      <td>24.3549</td>\n",
       "    </tr>\n",
       "    <tr>\n",
       "      <th>2968</th>\n",
       "      <td>56037</td>\n",
       "      <td>WY</td>\n",
       "      <td>Sweetwater County, WY</td>\n",
       "      <td>5</td>\n",
       "      <td>8</td>\n",
       "      <td>0</td>\n",
       "      <td>4.8</td>\n",
       "      <td>4.4</td>\n",
       "      <td>4.0</td>\n",
       "      <td>4.7</td>\n",
       "      <td>6.0</td>\n",
       "      <td>120.8</td>\n",
       "      <td>4.78</td>\n",
       "      <td>9.315</td>\n",
       "      <td>34.108</td>\n",
       "      <td>35.2061</td>\n",
       "      <td>21.3715</td>\n",
       "    </tr>\n",
       "    <tr>\n",
       "      <th>2969</th>\n",
       "      <td>56041</td>\n",
       "      <td>WY</td>\n",
       "      <td>Uinta County, WY</td>\n",
       "      <td>7</td>\n",
       "      <td>8</td>\n",
       "      <td>0</td>\n",
       "      <td>5.6</td>\n",
       "      <td>5.3</td>\n",
       "      <td>4.8</td>\n",
       "      <td>5.0</td>\n",
       "      <td>5.7</td>\n",
       "      <td>104.9</td>\n",
       "      <td>5.28</td>\n",
       "      <td>10.361</td>\n",
       "      <td>36.613</td>\n",
       "      <td>34.8186</td>\n",
       "      <td>18.2069</td>\n",
       "    </tr>\n",
       "    <tr>\n",
       "      <th>2970</th>\n",
       "      <td>56043</td>\n",
       "      <td>WY</td>\n",
       "      <td>Washakie County, WY</td>\n",
       "      <td>7</td>\n",
       "      <td>11</td>\n",
       "      <td>0</td>\n",
       "      <td>5.2</td>\n",
       "      <td>5.0</td>\n",
       "      <td>4.3</td>\n",
       "      <td>4.2</td>\n",
       "      <td>4.7</td>\n",
       "      <td>80.3</td>\n",
       "      <td>4.68</td>\n",
       "      <td>12.577</td>\n",
       "      <td>30.775</td>\n",
       "      <td>35.5723</td>\n",
       "      <td>21.0761</td>\n",
       "    </tr>\n",
       "    <tr>\n",
       "      <th>2971</th>\n",
       "      <td>56045</td>\n",
       "      <td>WY</td>\n",
       "      <td>Weston County, WY</td>\n",
       "      <td>7</td>\n",
       "      <td>9</td>\n",
       "      <td>0</td>\n",
       "      <td>4.1</td>\n",
       "      <td>3.6</td>\n",
       "      <td>3.3</td>\n",
       "      <td>3.4</td>\n",
       "      <td>4.9</td>\n",
       "      <td>91.7</td>\n",
       "      <td>3.86</td>\n",
       "      <td>8.592</td>\n",
       "      <td>32.709</td>\n",
       "      <td>39.8919</td>\n",
       "      <td>18.8067</td>\n",
       "    </tr>\n",
       "  </tbody>\n",
       "</table>\n",
       "<p>2972 rows × 17 columns</p>\n",
       "</div>"
      ],
      "text/plain": [
       "     FIPS code State               Area_name RUC_2013 UIC_2013 Metro_2013  \\\n",
       "0        01001    AL      Autauga County, AL        2        2          1   \n",
       "1        01003    AL      Baldwin County, AL        3        2          1   \n",
       "2        01005    AL      Barbour County, AL        6        6          0   \n",
       "3        01007    AL         Bibb County, AL        1        1          1   \n",
       "4        01009    AL       Blount County, AL        1        1          1   \n",
       "5        01011    AL      Bullock County, AL        6        6          0   \n",
       "6        01013    AL       Butler County, AL        6        6          0   \n",
       "7        01015    AL      Calhoun County, AL        3        2          1   \n",
       "8        01017    AL     Chambers County, AL        6        5          0   \n",
       "9        01019    AL     Cherokee County, AL        6        6          0   \n",
       "10       01021    AL      Chilton County, AL        1        1          1   \n",
       "11       01023    AL      Choctaw County, AL        9       10          0   \n",
       "12       01025    AL       Clarke County, AL        7       11          0   \n",
       "13       01027    AL         Clay County, AL        9       10          0   \n",
       "14       01029    AL     Cleburne County, AL        8        4          0   \n",
       "15       01031    AL       Coffee County, AL        4        5          0   \n",
       "16       01033    AL      Colbert County, AL        3        2          1   \n",
       "17       01035    AL      Conecuh County, AL        7       11          0   \n",
       "18       01037    AL        Coosa County, AL        8        3          0   \n",
       "19       01039    AL    Covington County, AL        6        6          0   \n",
       "20       01041    AL     Crenshaw County, AL        8        6          0   \n",
       "21       01043    AL      Cullman County, AL        4        3          0   \n",
       "22       01045    AL         Dale County, AL        4        5          0   \n",
       "23       01047    AL       Dallas County, AL        4        5          0   \n",
       "24       01049    AL       DeKalb County, AL        6        6          0   \n",
       "25       01051    AL       Elmore County, AL        2        2          1   \n",
       "26       01053    AL     Escambia County, AL        6        6          0   \n",
       "27       01055    AL       Etowah County, AL        3        2          1   \n",
       "28       01057    AL      Fayette County, AL        6        6          0   \n",
       "29       01059    AL     Franklin County, AL        6        6          0   \n",
       "...        ...   ...                     ...      ...      ...        ...   \n",
       "2942     55125    WI        Vilas County, WI        9       12          0   \n",
       "2943     55127    WI     Walworth County, WI        4        3          0   \n",
       "2944     55129    WI     Washburn County, WI        7       11          0   \n",
       "2945     55131    WI   Washington County, WI        1        1          1   \n",
       "2946     55133    WI     Waukesha County, WI        1        1          1   \n",
       "2947     55135    WI      Waupaca County, WI        6        6          0   \n",
       "2948     55137    WI     Waushara County, WI        6        6          0   \n",
       "2949     55139    WI    Winnebago County, WI        3        2          1   \n",
       "2950     55141    WI         Wood County, WI        4        5          0   \n",
       "2951     56001    WY       Albany County, WY        4        5          0   \n",
       "2952     56003    WY     Big Horn County, WY        9       12          0   \n",
       "2953     56005    WY     Campbell County, WY        5        8          0   \n",
       "2954     56007    WY       Carbon County, WY        7        9          0   \n",
       "2955     56009    WY     Converse County, WY        6        6          0   \n",
       "2956     56011    WY        Crook County, WY        9       10          0   \n",
       "2957     56013    WY      Fremont County, WY        7        8          0   \n",
       "2958     56015    WY       Goshen County, WY        7        9          0   \n",
       "2959     56017    WY  Hot Springs County, WY        7        9          0   \n",
       "2960     56019    WY      Johnson County, WY        7        9          0   \n",
       "2961     56021    WY      Laramie County, WY        3        2          1   \n",
       "2962     56023    WY      Lincoln County, WY        7        9          0   \n",
       "2963     56025    WY      Natrona County, WY        3        2          1   \n",
       "2964     56029    WY         Park County, WY        7       11          0   \n",
       "2965     56031    WY       Platte County, WY        7       11          0   \n",
       "2966     56033    WY     Sheridan County, WY        7        8          0   \n",
       "2967     56035    WY     Sublette County, WY        9       10          0   \n",
       "2968     56037    WY   Sweetwater County, WY        5        8          0   \n",
       "2969     56041    WY        Uinta County, WY        7        8          0   \n",
       "2970     56043    WY     Washakie County, WY        7       11          0   \n",
       "2971     56045    WY       Weston County, WY        7        9          0   \n",
       "\n",
       "      Uer_2012  Uer_2013  Uer_2014  Uer_2015  Uer_2016 Medi_inc2016  Uer_Avg  \\\n",
       "0          6.9       6.2       5.8       5.2       5.1        117.7     5.84   \n",
       "1          7.5       6.6       6.1       5.5       5.4        121.9     6.22   \n",
       "2         11.5      10.2      10.5       8.9       8.4           71     9.90   \n",
       "3          8.5       7.9       7.2       6.6       6.5           93     7.34   \n",
       "4          6.9       6.3       6.1       5.4       5.4          102     6.02   \n",
       "5         10.4       9.4       8.8       7.9       6.9           74     8.68   \n",
       "6         11.5      10.3       8.5       7.6       6.9         76.5     8.96   \n",
       "7          8.9       8.8       8.0       7.0       6.6         90.2     7.86   \n",
       "8          9.9       8.0       6.7       6.1       5.5         85.4     7.24   \n",
       "9          8.0       6.6       5.8       5.5       5.1         89.5     6.20   \n",
       "10         7.2       6.6       6.3       5.6       5.5         95.4     6.24   \n",
       "11        10.3       9.2       9.0       9.1       8.5         70.6     9.22   \n",
       "12        15.0      13.8      12.2      11.7      10.9         73.6    12.72   \n",
       "13         9.4       8.3       7.1       6.1       6.0         83.2     7.38   \n",
       "14         8.2       7.7       6.6       6.0       6.0         93.9     6.90   \n",
       "15         7.0       6.9       6.6       6.0       5.9          105     6.48   \n",
       "16         8.8       8.2       8.3       7.9       7.0        100.6     8.04   \n",
       "17        11.9      10.7      10.3       9.2       8.4         64.3    10.10   \n",
       "18         9.4       9.2       8.8       6.7       6.0         78.7     8.02   \n",
       "19         8.4       8.1       7.8       7.1       6.8         75.6     7.64   \n",
       "20         8.3       7.7       6.9       6.0       5.9         80.7     6.96   \n",
       "21         7.7       6.7       6.1       5.3       5.0         89.7     6.16   \n",
       "22         7.4       7.4       7.1       6.4       5.8         87.5     6.82   \n",
       "23        12.9      12.2      11.2       9.6       9.2         65.8    11.02   \n",
       "24         9.0       7.6       6.9       6.1       6.1         80.2     7.14   \n",
       "25         6.9       6.2       5.7       5.0       4.8        117.8     5.72   \n",
       "26         9.2       8.6       8.0       7.0       6.7         75.8     7.90   \n",
       "27         8.2       7.6       7.0       6.2       5.9         88.5     6.98   \n",
       "28         8.6       8.3       7.8       7.0       6.7         82.9     7.68   \n",
       "29         8.4       8.0       7.7       6.4       5.9           80     7.28   \n",
       "...        ...       ...       ...       ...       ...          ...      ...   \n",
       "2942      10.0      10.1       8.4       7.0       5.6         80.8     8.22   \n",
       "2943       7.2       6.8       5.5       4.6       4.0        103.7     5.62   \n",
       "2944       7.9       7.4       6.2       5.4       5.0         82.7     6.38   \n",
       "2945       6.1       5.7       4.5       3.7       3.3        131.4     4.66   \n",
       "2946       5.8       5.5       4.4       3.8       3.4        144.5     4.58   \n",
       "2947       7.6       7.3       5.7       4.6       3.9         91.8     5.82   \n",
       "2948       8.8       8.6       7.1       6.3       5.0         83.8     7.16   \n",
       "2949       6.7       6.4       5.2       4.2       3.6        100.3     5.22   \n",
       "2950       7.5       7.3       6.7       5.5       4.7         92.6     6.34   \n",
       "2951       4.3       3.8       3.4       3.2       3.2         76.8     3.58   \n",
       "2952       5.6       5.2       4.5       4.5       4.9         80.6     4.94   \n",
       "2953       4.6       4.2       3.3       4.0       7.1        128.3     4.64   \n",
       "2954       5.2       4.3       4.0       3.7       4.6         95.8     4.36   \n",
       "2955       4.3       3.7       3.0       3.7       6.2        115.9     4.18   \n",
       "2956       4.9       4.4       3.9       3.5       4.5         98.8     4.24   \n",
       "2957       6.0       5.7       5.0       5.6       7.1         79.9     5.88   \n",
       "2958       4.7       4.2       3.6       3.3       3.4         77.4     3.84   \n",
       "2959       4.7       4.7       4.1       4.2       4.7         74.6     4.48   \n",
       "2960       5.3       5.1       4.5       4.9       5.3         91.3     5.02   \n",
       "2961       5.8       4.8       4.3       4.0       4.1         99.1     4.60   \n",
       "2962       7.1       5.7       5.1       4.7       4.6        103.6     5.44   \n",
       "2963       5.1       4.5       4.0       4.9       7.1         98.2     5.12   \n",
       "2964       5.5       5.1       4.5       4.3       4.7         98.3     4.82   \n",
       "2965       4.9       4.4       3.8       3.9       4.7         88.5     4.34   \n",
       "2966       6.2       5.5       4.6       4.3       4.7           86     5.06   \n",
       "2967       4.9       4.7       4.3       5.2       6.4          117     5.10   \n",
       "2968       4.8       4.4       4.0       4.7       6.0        120.8     4.78   \n",
       "2969       5.6       5.3       4.8       5.0       5.7        104.9     5.28   \n",
       "2970       5.2       5.0       4.3       4.2       4.7         80.3     4.68   \n",
       "2971       4.1       3.6       3.3       3.4       4.9         91.7     3.86   \n",
       "\n",
       "       LHD_%   HSD_%    ABD_%    BDH_%  \n",
       "0     12.417  34.331  28.6596  24.5928  \n",
       "1      9.972  28.692   31.788  29.5471  \n",
       "2     26.236  34.927  25.9694  12.8678  \n",
       "3     19.302  41.816  26.8825       12  \n",
       "4     19.969  32.942  34.0393  13.0498  \n",
       "5     33.438  34.147  22.1601   10.255  \n",
       "6      18.94  39.852  25.1272    16.08  \n",
       "7     17.663  32.072  32.6121   17.653  \n",
       "8     19.737  39.411  28.3684  12.4843  \n",
       "9     18.717  35.958   31.363  13.9617  \n",
       "10    19.902  41.254  23.9886  14.8545  \n",
       "11    21.147  37.257  29.6359  11.9602  \n",
       "12    18.958  45.118  23.7869  12.1372  \n",
       "13    25.386  34.575  28.9752  11.0629  \n",
       "14    25.815   37.97  24.6865  11.5281  \n",
       "15    14.864  29.344  32.1257  23.6667  \n",
       "16    16.577  34.849  30.1037  18.4709  \n",
       "17    20.572  46.208  24.5572  8.66258  \n",
       "18    27.065  36.335  26.6599  9.94056  \n",
       "19    19.066  34.407  31.6058  14.9215  \n",
       "20    21.684   38.53  25.1387  14.6477  \n",
       "21    17.844  35.126  32.0615   14.969  \n",
       "22    14.165   33.07  36.6963  16.0687  \n",
       "23    20.982  36.456   28.778  13.7843  \n",
       "24    27.363  34.273  26.9983  11.3659  \n",
       "25    13.172  35.443  29.1465  22.2384  \n",
       "26    19.544  43.432  25.3979  11.6257  \n",
       "27    17.549  32.546  33.4133  16.4919  \n",
       "28    20.769  39.039  26.0461  14.1453  \n",
       "29    24.331  36.688  26.5912  12.3901  \n",
       "...      ...     ...      ...      ...  \n",
       "2942   7.548  31.159  34.4807  26.8116  \n",
       "2943   9.075  31.629  31.4776  27.8182  \n",
       "2944   8.246  37.874  32.3115  21.5693  \n",
       "2945   6.073  30.442  34.0629  29.4221  \n",
       "2946   4.116  24.173   30.087  41.6234  \n",
       "2947   9.145  43.062   30.128  17.6643  \n",
       "2948  13.761  41.768  29.3861  15.0847  \n",
       "2949   7.894  33.979  31.2401  26.8869  \n",
       "2950   7.658  38.891  33.0683  20.3825  \n",
       "2951    4.21  16.753  31.1738  47.8632  \n",
       "2952  10.418  29.886  40.3904  19.3063  \n",
       "2953    8.33  34.868  37.7378   19.064  \n",
       "2954    9.58  34.778   35.324  20.3184  \n",
       "2955   9.758  37.873  36.8372  15.5318  \n",
       "2956   6.065  32.557  40.0117  21.3657  \n",
       "2957   8.537  32.517  36.5948  22.3513  \n",
       "2958   8.391  29.673  38.9728  22.9631  \n",
       "2959   8.448  27.609  41.6068  22.3357  \n",
       "2960   5.106  33.212  36.2194  25.4627  \n",
       "2961   6.712  26.531  39.1041  27.6527  \n",
       "2962    6.95  31.267  41.4145  20.3687  \n",
       "2963   8.332  29.141  40.3138  22.2132  \n",
       "2964   5.748  25.468  36.7827  32.0014  \n",
       "2965   9.676  32.332  38.2925  19.6996  \n",
       "2966   6.135  24.898  38.8414  30.1255  \n",
       "2967   4.659  37.543  33.4432  24.3549  \n",
       "2968   9.315  34.108  35.2061  21.3715  \n",
       "2969  10.361  36.613  34.8186  18.2069  \n",
       "2970  12.577  30.775  35.5723  21.0761  \n",
       "2971   8.592  32.709  39.8919  18.8067  \n",
       "\n",
       "[2972 rows x 17 columns]"
      ]
     },
     "execution_count": 150,
     "metadata": {},
     "output_type": "execute_result"
    }
   ],
   "source": [
    "# merge_df.to_csv('combined_dataset.csv', encoding='utf-8', index=False)\n",
    "merge_df.isnull().sum()\n",
    "merge_df = merge_df[(merge_df.RUC_2013.notnull()) & (merge_df.RUC_2013.notnull())]\n",
    "merge_df"
   ]
  },
  {
   "cell_type": "code",
   "execution_count": 151,
   "metadata": {},
   "outputs": [],
   "source": [
    "merge_df = merge_df.dropna()\n",
    "merge_df = merge_df.reset_index(drop=True)\n",
    "merge_data = pd.concat([merge_df.iloc[:,4],merge_df.iloc[:,11:15]], axis =1)"
   ]
  },
  {
   "cell_type": "code",
   "execution_count": 152,
   "metadata": {},
   "outputs": [],
   "source": [
    "data__array = merge_data.values"
   ]
  },
  {
   "cell_type": "code",
   "execution_count": 153,
   "metadata": {},
   "outputs": [
    {
     "data": {
      "text/plain": [
       "array([12, 152.7, 12.9, 35.116, 49.331], dtype=object)"
      ]
     },
     "execution_count": 153,
     "metadata": {},
     "output_type": "execute_result"
    }
   ],
   "source": [
    "data__array.max(axis = 0)"
   ]
  },
  {
   "cell_type": "code",
   "execution_count": 154,
   "metadata": {},
   "outputs": [
    {
     "name": "stdout",
     "output_type": "stream",
     "text": [
      "<class 'pandas.core.frame.DataFrame'>\n",
      "RangeIndex: 2972 entries, 0 to 2971\n",
      "Data columns (total 17 columns):\n",
      "FIPS code       2972 non-null object\n",
      "State           2972 non-null object\n",
      "Area_name       2972 non-null object\n",
      "RUC_2013        2972 non-null object\n",
      "UIC_2013        2972 non-null object\n",
      "Metro_2013      2972 non-null object\n",
      "Uer_2012        2972 non-null float64\n",
      "Uer_2013        2972 non-null float64\n",
      "Uer_2014        2972 non-null float64\n",
      "Uer_2015        2972 non-null float64\n",
      "Uer_2016        2972 non-null float64\n",
      "Medi_inc2016    2972 non-null object\n",
      "Uer_Avg         2972 non-null float64\n",
      "LHD_%           2972 non-null object\n",
      "HSD_%           2972 non-null object\n",
      "ABD_%           2972 non-null object\n",
      "BDH_%           2972 non-null object\n",
      "dtypes: float64(6), object(11)\n",
      "memory usage: 394.8+ KB\n"
     ]
    }
   ],
   "source": [
    "merge_df.info()"
   ]
  },
  {
   "cell_type": "code",
   "execution_count": 155,
   "metadata": {},
   "outputs": [],
   "source": [
    "# convert columns from object to numeric\n",
    "merge_df[['UIC_2013','Uer_Avg', 'ABD_%', 'LHD_%', 'HSD_%', 'BDH_%']] = merge_df[['UIC_2013','Uer_Avg', 'ABD_%', 'LHD_%', 'HSD_%', 'BDH_%']].apply(pd.to_numeric)\n",
    "Unemp = merge_df.groupby('UIC_2013')['Uer_Avg'].mean()\n",
    "ABD = merge_df.groupby('UIC_2013')['ABD_%'].mean()\n",
    "LHD = merge_df.groupby('UIC_2013')['LHD_%'].mean()\n",
    "HSD = merge_df.groupby('UIC_2013')['HSD_%'].mean()\n",
    "BDH = merge_df.groupby('UIC_2013')['BDH_%'].mean()\n",
    "sorted_Merge = pd.concat([ABD, LHD], axis=1)\n",
    "# converting series objects to dataframes\n",
    "Unemp = Unemp.to_frame().reset_index()\n",
    "ABD = ABD.to_frame().reset_index()\n",
    "LHD = LHD.to_frame().reset_index()\n",
    "HSD = HSD.to_frame().reset_index()\n",
    "BDH = BDH.to_frame().reset_index()\n",
    "sorted_Merge = pd.concat([Unemp, LHD.iloc[:,1], HSD.iloc[:,1],ABD.iloc[:,1], BDH.iloc[:,1] ], axis=1)"
   ]
  },
  {
   "cell_type": "code",
   "execution_count": 156,
   "metadata": {},
   "outputs": [
    {
     "name": "stdout",
     "output_type": "stream",
     "text": [
      "<class 'pandas.core.frame.DataFrame'>\n",
      "RangeIndex: 12 entries, 0 to 11\n",
      "Data columns (total 6 columns):\n",
      "UIC_2013    12 non-null int64\n",
      "Uer_Avg     12 non-null float64\n",
      "LHD_%       12 non-null float64\n",
      "HSD_%       12 non-null float64\n",
      "ABD_%       12 non-null float64\n",
      "BDH_%       12 non-null float64\n",
      "dtypes: float64(5), int64(1)\n",
      "memory usage: 656.0 bytes\n"
     ]
    }
   ],
   "source": [
    "sorted_Merge.info()"
   ]
  },
  {
   "cell_type": "code",
   "execution_count": 157,
   "metadata": {},
   "outputs": [
    {
     "data": {
      "text/plain": [
       "<matplotlib.axes._subplots.AxesSubplot at 0x254884a2c50>"
      ]
     },
     "execution_count": 157,
     "metadata": {},
     "output_type": "execute_result"
    },
    {
     "data": {
      "image/png": "[encoded data removed]",
      "text/plain": [
       "<Figure size 432x288 with 1 Axes>"
      ]
     },
     "metadata": {},
     "output_type": "display_data"
    }
   ],
   "source": [
    "sns.countplot(y='UIC_2013', data=merge_df)"
   ]
  },
  {
   "cell_type": "code",
   "execution_count": 158,
   "metadata": {},
   "outputs": [
    {
     "data": {
      "text/plain": [
       "<matplotlib.axes._subplots.AxesSubplot at 0x2548be76a58>"
      ]
     },
     "execution_count": 158,
     "metadata": {},
     "output_type": "execute_result"
    },
    {
     "data": {
      "image/png": "[encoded data removed]",
      "text/plain": [
       "<Figure size 432x288 with 1 Axes>"
      ]
     },
     "metadata": {},
     "output_type": "display_data"
    }
   ],
   "source": [
    "oldmerge_df = pd.merge(unemp_dfprocess_copy,ed_dfprocess_copy, on=\"FIPS code\",  how='inner', suffixes=('_',''))\n",
    "sns.countplot(y='UIC_2013', data=oldmerge_df)"
   ]
  },
  {
   "cell_type": "code",
   "execution_count": 159,
   "metadata": {},
   "outputs": [
    {
     "name": "stdout",
     "output_type": "stream",
     "text": [
      "<class 'pandas.core.frame.DataFrame'>\n",
      "Int64Index: 3275 entries, 0 to 3274\n",
      "Data columns (total 21 columns):\n",
      "FIPS code       3275 non-null object\n",
      "State_          3275 non-null object\n",
      "Area_name_      3275 non-null object\n",
      "RUC_2013_       3219 non-null object\n",
      "UIC_2013_       3219 non-null object\n",
      "Metro_2013      3222 non-null object\n",
      "Uer_2012        3272 non-null float64\n",
      "Uer_2013        3272 non-null float64\n",
      "Uer_2014        3272 non-null float64\n",
      "Uer_2015        3272 non-null float64\n",
      "Uer_2016        3272 non-null float64\n",
      "Medi_inc2016    3192 non-null object\n",
      "Uer_Avg         3272 non-null float64\n",
      "State           3275 non-null object\n",
      "Area_name       3275 non-null object\n",
      "RUC_2013        3219 non-null object\n",
      "UIC_2013        3219 non-null object\n",
      "LHD_%           3272 non-null object\n",
      "HSD_%           3272 non-null object\n",
      "ABD_%           3272 non-null object\n",
      "BDH_%           3272 non-null object\n",
      "dtypes: float64(6), object(15)\n",
      "memory usage: 722.9+ KB\n"
     ]
    }
   ],
   "source": [
    "oldmerge_df.info()"
   ]
  },
  {
   "cell_type": "code",
   "execution_count": 160,
   "metadata": {
    "scrolled": true
   },
   "outputs": [
    {
     "data": {
      "text/plain": [
       "<matplotlib.axes._subplots.AxesSubplot at 0x25488784c88>"
      ]
     },
     "execution_count": 160,
     "metadata": {},
     "output_type": "execute_result"
    },
    {
     "data": {
      "image/png": "[encoded data removed]",
      "text/plain": [
       "<Figure size 432x288 with 1 Axes>"
      ]
     },
     "metadata": {},
     "output_type": "display_data"
    }
   ],
   "source": [
    "sns.countplot(y='RUC_2013', data=merge_df)"
   ]
  },
  {
   "cell_type": "code",
   "execution_count": 161,
   "metadata": {},
   "outputs": [
    {
     "data": {
      "text/plain": [
       "<matplotlib.axes._subplots.AxesSubplot at 0x2548ade69b0>"
      ]
     },
     "execution_count": 161,
     "metadata": {},
     "output_type": "execute_result"
    },
    {
     "data": {
      "image/png": "[encoded data removed]",
      "text/plain": [
       "<Figure size 432x288 with 1 Axes>"
      ]
     },
     "metadata": {},
     "output_type": "display_data"
    }
   ],
   "source": [
    "sns.countplot(y='RUC_2013', data=oldmerge_df)"
   ]
  },
  {
   "cell_type": "code",
   "execution_count": 162,
   "metadata": {},
   "outputs": [
    {
     "data": {
      "text/plain": [
       "<matplotlib.axes._subplots.AxesSubplot at 0x2548adf8a90>"
      ]
     },
     "execution_count": 162,
     "metadata": {},
     "output_type": "execute_result"
    },
    {
     "data": {
      "image/png": "[encoded data removed]",
      "text/plain": [
       "<Figure size 432x288 with 1 Axes>"
      ]
     },
     "metadata": {},
     "output_type": "display_data"
    }
   ],
   "source": [
    "sns.countplot(y='Metro_2013', data=merge_df)"
   ]
  },
  {
   "cell_type": "code",
   "execution_count": 163,
   "metadata": {
    "scrolled": true
   },
   "outputs": [
    {
     "data": {
      "text/plain": [
       "<matplotlib.axes._subplots.AxesSubplot at 0x2548aeec2b0>"
      ]
     },
     "execution_count": 163,
     "metadata": {},
     "output_type": "execute_result"
    },
    {
     "data": {
      "image/png": "[encoded data removed]",
      "text/plain": [
       "<Figure size 432x288 with 1 Axes>"
      ]
     },
     "metadata": {},
     "output_type": "display_data"
    }
   ],
   "source": [
    "sns.countplot(y='Metro_2013', data=oldmerge_df)"
   ]
  },
  {
   "cell_type": "code",
   "execution_count": null,
   "metadata": {},
   "outputs": [],
   "source": []
  },
  {
   "cell_type": "code",
   "execution_count": 164,
   "metadata": {},
   "outputs": [
    {
     "name": "stdout",
     "output_type": "stream",
     "text": [
      "<class 'pandas.core.frame.DataFrame'>\n",
      "RangeIndex: 2972 entries, 0 to 2971\n",
      "Data columns (total 17 columns):\n",
      "FIPS code       2972 non-null object\n",
      "State           2972 non-null object\n",
      "Area_name       2972 non-null object\n",
      "RUC_2013        2972 non-null object\n",
      "UIC_2013        2972 non-null int64\n",
      "Metro_2013      2972 non-null object\n",
      "Uer_2012        2972 non-null float64\n",
      "Uer_2013        2972 non-null float64\n",
      "Uer_2014        2972 non-null float64\n",
      "Uer_2015        2972 non-null float64\n",
      "Uer_2016        2972 non-null float64\n",
      "Medi_inc2016    2972 non-null object\n",
      "Uer_Avg         2972 non-null float64\n",
      "LHD_%           2972 non-null float64\n",
      "HSD_%           2972 non-null float64\n",
      "ABD_%           2972 non-null float64\n",
      "BDH_%           2972 non-null float64\n",
      "dtypes: float64(10), int64(1), object(6)\n",
      "memory usage: 394.8+ KB\n"
     ]
    }
   ],
   "source": [
    "merge_df.info()"
   ]
  },
  {
   "cell_type": "code",
   "execution_count": 165,
   "metadata": {},
   "outputs": [
    {
     "data": {
      "text/plain": [
       "<matplotlib.legend.Legend at 0x2548b6a5080>"
      ]
     },
     "execution_count": 165,
     "metadata": {},
     "output_type": "execute_result"
    },
    {
     "data": {
      "image/png": "[encoded data removed]",
      "text/plain": [
       "<Figure size 432x288 with 2 Axes>"
      ]
     },
     "metadata": {},
     "output_type": "display_data"
    }
   ],
   "source": [
    "import matplotlib.pyplot as plt\n",
    "\n",
    "# ABD.plot(ax=plt.gca()) #no need to specify for first axis\n",
    "ax = sorted_Merge.plot(x=\"UIC_2013\", y=\"LHD_%\", legend=False)\n",
    "ax2 = ax.twinx()\n",
    "sorted_Merge.plot(x=\"UIC_2013\", y=\"Uer_Avg\", ax=ax2, legend=False, color=\"r\")\n",
    "ax.figure.legend()"
   ]
  },
  {
   "cell_type": "code",
   "execution_count": 166,
   "metadata": {},
   "outputs": [
    {
     "data": {
      "text/plain": [
       "<matplotlib.legend.Legend at 0x2548b455ba8>"
      ]
     },
     "execution_count": 166,
     "metadata": {},
     "output_type": "execute_result"
    },
    {
     "data": {
      "image/png": "[encoded data removed]",
      "text/plain": [
       "<Figure size 432x288 with 2 Axes>"
      ]
     },
     "metadata": {},
     "output_type": "display_data"
    }
   ],
   "source": [
    "# plt.subplot(2,2,2)\n",
    "# LHD.plot(ax=plt.gca())\n",
    "ax = sorted_Merge.plot(x=\"UIC_2013\", y=\"HSD_%\", legend=False)\n",
    "ax2 = ax.twinx()\n",
    "sorted_Merge.plot(x=\"UIC_2013\", y=\"Uer_Avg\", ax=ax2, legend=False, color=\"r\")\n",
    "ax.figure.legend()"
   ]
  },
  {
   "cell_type": "code",
   "execution_count": 167,
   "metadata": {},
   "outputs": [
    {
     "data": {
      "text/plain": [
       "<matplotlib.legend.Legend at 0x2548899a4a8>"
      ]
     },
     "execution_count": 167,
     "metadata": {},
     "output_type": "execute_result"
    },
    {
     "data": {
      "image/png": "[encoded data removed]",
      "text/plain": [
       "<Figure size 432x288 with 2 Axes>"
      ]
     },
     "metadata": {},
     "output_type": "display_data"
    }
   ],
   "source": [
    "# plt.subplot(2,2,3)\n",
    "# HSD.plot(ax=plt.gca())\n",
    "ax = sorted_Merge.plot(x=\"UIC_2013\", y=\"ABD_%\", legend=False)\n",
    "ax2 = ax.twinx()\n",
    "sorted_Merge.plot(x=\"UIC_2013\", y=\"Uer_Avg\", ax=ax2, legend=False, color=\"r\")\n",
    "ax.figure.legend()"
   ]
  },
  {
   "cell_type": "code",
   "execution_count": 168,
   "metadata": {},
   "outputs": [
    {
     "data": {
      "image/png": "[encoded data removed]",
      "text/plain": [
       "<Figure size 432x288 with 2 Axes>"
      ]
     },
     "metadata": {},
     "output_type": "display_data"
    }
   ],
   "source": [
    "# plt.subplot(2,2,4)\n",
    "# BDH.plot(ax=plt.gca())\n",
    "ax = sorted_Merge.plot(x=\"UIC_2013\", y=\"BDH_%\", legend=False)\n",
    "ax2 = ax.twinx()\n",
    "sorted_Merge.plot(x=\"UIC_2013\", y=\"Uer_Avg\", ax=ax2, legend=False, color=\"r\")\n",
    "ax.figure.legend()\n",
    "plt.show()"
   ]
  },
  {
   "cell_type": "code",
   "execution_count": 169,
   "metadata": {},
   "outputs": [
    {
     "name": "stdout",
     "output_type": "stream",
     "text": [
      "<class 'pandas.core.frame.DataFrame'>\n",
      "RangeIndex: 12 entries, 0 to 11\n",
      "Data columns (total 6 columns):\n",
      "UIC_2013    12 non-null int64\n",
      "Uer_Avg     12 non-null float64\n",
      "LHD_%       12 non-null float64\n",
      "HSD_%       12 non-null float64\n",
      "ABD_%       12 non-null float64\n",
      "BDH_%       12 non-null float64\n",
      "dtypes: float64(5), int64(1)\n",
      "memory usage: 656.0 bytes\n"
     ]
    }
   ],
   "source": [
    "sorted_Merge.info()"
   ]
  },
  {
   "cell_type": "code",
   "execution_count": 170,
   "metadata": {},
   "outputs": [],
   "source": [
    "sorted_Merge[\"L\"] = sorted_Merge[\"LHD_%\"] + sorted_Merge[\"HSD_%\"]   \n",
    "\n",
    "sorted_Merge[\"H\"] = sorted_Merge[\"ABD_%\"] + sorted_Merge[\"BDH_%\"]   "
   ]
  },
  {
   "cell_type": "code",
   "execution_count": 171,
   "metadata": {},
   "outputs": [
    {
     "name": "stdout",
     "output_type": "stream",
     "text": [
      "<class 'pandas.core.frame.DataFrame'>\n",
      "RangeIndex: 12 entries, 0 to 11\n",
      "Data columns (total 8 columns):\n",
      "UIC_2013    12 non-null int64\n",
      "Uer_Avg     12 non-null float64\n",
      "LHD_%       12 non-null float64\n",
      "HSD_%       12 non-null float64\n",
      "ABD_%       12 non-null float64\n",
      "BDH_%       12 non-null float64\n",
      "L           12 non-null float64\n",
      "H           12 non-null float64\n",
      "dtypes: float64(7), int64(1)\n",
      "memory usage: 848.0 bytes\n"
     ]
    }
   ],
   "source": [
    "sorted_Merge.info()"
   ]
  },
  {
   "cell_type": "code",
   "execution_count": 172,
   "metadata": {},
   "outputs": [
    {
     "data": {
      "image/png": "[encoded data removed]",
      "text/plain": [
       "<Figure size 432x288 with 2 Axes>"
      ]
     },
     "metadata": {},
     "output_type": "display_data"
    }
   ],
   "source": [
    "# plt.subplot(2,2,4)\n",
    "# BDH.plot(ax=plt.gca())\n",
    "ax = sorted_Merge.plot(x=\"UIC_2013\", y=\"L\", legend=False)\n",
    "ax2 = ax.twinx()\n",
    "sorted_Merge.plot(x=\"UIC_2013\", y=\"Uer_Avg\", ax=ax2, legend=False, color=\"r\")\n",
    "ax.figure.legend()\n",
    "plt.show()"
   ]
  },
  {
   "cell_type": "code",
   "execution_count": 173,
   "metadata": {},
   "outputs": [
    {
     "data": {
      "image/png": "[encoded data removed]",
      "text/plain": [
       "<Figure size 432x288 with 2 Axes>"
      ]
     },
     "metadata": {},
     "output_type": "display_data"
    }
   ],
   "source": [
    "# plt.subplot(2,2,4)\n",
    "# BDH.plot(ax=plt.gca())\n",
    "ax = sorted_Merge.plot(x=\"UIC_2013\", y=\"H\", legend=False)\n",
    "ax2 = ax.twinx()\n",
    "sorted_Merge.plot(x=\"UIC_2013\", y=\"Uer_Avg\", ax=ax2, legend=False, color=\"r\")\n",
    "ax.figure.legend()\n",
    "plt.show()"
   ]
  },
  {
   "cell_type": "code",
   "execution_count": 174,
   "metadata": {},
   "outputs": [],
   "source": [
    "\n",
    "# convert columns from object to numeric\n",
    "merge_df[['RUC_2013','Metro_2013','Uer_Avg', 'ABD_%', 'LHD_%', 'HSD_%', 'BDH_%']] = merge_df[['RUC_2013','Metro_2013','Uer_Avg', 'ABD_%', 'LHD_%', 'HSD_%', 'BDH_%']].apply(pd.to_numeric)\n",
    "Unemp = merge_df.groupby('RUC_2013')['Uer_Avg'].mean()\n",
    "ABD = merge_df.groupby('RUC_2013')['ABD_%'].mean()\n",
    "LHD = merge_df.groupby('RUC_2013')['LHD_%'].mean()\n",
    "HSD = merge_df.groupby('RUC_2013')['HSD_%'].mean()\n",
    "BDH = merge_df.groupby('RUC_2013')['BDH_%'].mean()\n",
    "sorted_Merge = pd.concat([ABD, LHD], axis=1)\n",
    "# converting series objects to dataframes\n",
    "Unemp = Unemp.to_frame().reset_index()\n",
    "ABD = ABD.to_frame().reset_index()\n",
    "LHD = LHD.to_frame().reset_index()\n",
    "HSD = HSD.to_frame().reset_index()\n",
    "BDH = BDH.to_frame().reset_index()\n",
    "sorted_Merge = pd.concat([Unemp, LHD.iloc[:,1], HSD.iloc[:,1],ABD.iloc[:,1], BDH.iloc[:,1] ], axis=1)\n"
   ]
  },
  {
   "cell_type": "code",
   "execution_count": 175,
   "metadata": {},
   "outputs": [
    {
     "name": "stdout",
     "output_type": "stream",
     "text": [
      "<class 'pandas.core.frame.DataFrame'>\n",
      "RangeIndex: 2972 entries, 0 to 2971\n",
      "Data columns (total 17 columns):\n",
      "FIPS code       2972 non-null object\n",
      "State           2972 non-null object\n",
      "Area_name       2972 non-null object\n",
      "RUC_2013        2972 non-null int64\n",
      "UIC_2013        2972 non-null int64\n",
      "Metro_2013      2972 non-null int64\n",
      "Uer_2012        2972 non-null float64\n",
      "Uer_2013        2972 non-null float64\n",
      "Uer_2014        2972 non-null float64\n",
      "Uer_2015        2972 non-null float64\n",
      "Uer_2016        2972 non-null float64\n",
      "Medi_inc2016    2972 non-null object\n",
      "Uer_Avg         2972 non-null float64\n",
      "LHD_%           2972 non-null float64\n",
      "HSD_%           2972 non-null float64\n",
      "ABD_%           2972 non-null float64\n",
      "BDH_%           2972 non-null float64\n",
      "dtypes: float64(10), int64(3), object(4)\n",
      "memory usage: 394.8+ KB\n"
     ]
    }
   ],
   "source": [
    "merge_df.info()"
   ]
  },
  {
   "cell_type": "code",
   "execution_count": 176,
   "metadata": {},
   "outputs": [],
   "source": [
    "sorted_Merge[\"L\"] = sorted_Merge[\"LHD_%\"] + sorted_Merge[\"HSD_%\"]   \n",
    "\n",
    "sorted_Merge[\"H\"] = sorted_Merge[\"ABD_%\"] + sorted_Merge[\"BDH_%\"]  "
   ]
  },
  {
   "cell_type": "code",
   "execution_count": 177,
   "metadata": {},
   "outputs": [
    {
     "data": {
      "image/png": "[encoded data removed]",
      "text/plain": [
       "<Figure size 432x288 with 2 Axes>"
      ]
     },
     "metadata": {},
     "output_type": "display_data"
    },
    {
     "data": {
      "image/png": "[encoded data removed]",
      "text/plain": [
       "<Figure size 432x288 with 2 Axes>"
      ]
     },
     "metadata": {},
     "output_type": "display_data"
    }
   ],
   "source": [
    "ax = sorted_Merge.plot(x=\"RUC_2013\", y=\"H\", legend=False)\n",
    "ax2 = ax.twinx()\n",
    "sorted_Merge.plot(x=\"RUC_2013\", y=\"Uer_Avg\", ax=ax2, legend=False, color=\"r\")\n",
    "ax.figure.legend()\n",
    "plt.show()\n",
    "\n",
    "ax = sorted_Merge.plot(x=\"RUC_2013\", y=\"L\", legend=False)\n",
    "ax2 = ax.twinx()\n",
    "sorted_Merge.plot(x=\"RUC_2013\", y=\"Uer_Avg\", ax=ax2, legend=False, color=\"r\")\n",
    "ax.figure.legend()\n",
    "plt.show()"
   ]
  },
  {
   "cell_type": "code",
   "execution_count": 178,
   "metadata": {},
   "outputs": [
    {
     "data": {
      "text/plain": [
       "<matplotlib.legend.Legend at 0x25488a34630>"
      ]
     },
     "execution_count": 178,
     "metadata": {},
     "output_type": "execute_result"
    },
    {
     "data": {
      "image/png": "[encoded data removed]",
      "text/plain": [
       "<Figure size 432x288 with 2 Axes>"
      ]
     },
     "metadata": {},
     "output_type": "display_data"
    },
    {
     "data": {
      "image/png": "[encoded data removed]",
      "text/plain": [
       "<Figure size 432x288 with 2 Axes>"
      ]
     },
     "metadata": {},
     "output_type": "display_data"
    },
    {
     "data": {
      "image/png": "[encoded data removed]",
      "text/plain": [
       "<Figure size 432x288 with 2 Axes>"
      ]
     },
     "metadata": {},
     "output_type": "display_data"
    },
    {
     "data": {
      "image/png": "[encoded data removed]",
      "text/plain": [
       "<Figure size 432x288 with 2 Axes>"
      ]
     },
     "metadata": {},
     "output_type": "display_data"
    }
   ],
   "source": [
    "import matplotlib.pyplot as plt\n",
    "\n",
    "# ABD.plot(ax=plt.gca()) #no need to specify for first axis\n",
    "ax = sorted_Merge.plot(x=\"RUC_2013\", y=\"LHD_%\", legend=False)\n",
    "ax2 = ax.twinx()\n",
    "sorted_Merge.plot(x=\"RUC_2013\", y=\"Uer_Avg\", ax=ax2, legend=False, color=\"r\")\n",
    "ax.figure.legend()\n",
    "\n",
    "import matplotlib.pyplot as plt\n",
    "\n",
    "# ABD.plot(ax=plt.gca()) #no need to specify for first axis\n",
    "ax = sorted_Merge.plot(x=\"RUC_2013\", y=\"HSD_%\", legend=False)\n",
    "ax2 = ax.twinx()\n",
    "sorted_Merge.plot(x=\"RUC_2013\", y=\"Uer_Avg\", ax=ax2, legend=False, color=\"r\")\n",
    "ax.figure.legend()\n",
    "\n",
    "import matplotlib.pyplot as plt\n",
    "\n",
    "# ABD.plot(ax=plt.gca()) #no need to specify for first axis\n",
    "ax = sorted_Merge.plot(x=\"RUC_2013\", y=\"ABD_%\", legend=False)\n",
    "ax2 = ax.twinx()\n",
    "sorted_Merge.plot(x=\"RUC_2013\", y=\"Uer_Avg\", ax=ax2, legend=False, color=\"r\")\n",
    "ax.figure.legend()\n",
    "\n",
    "import matplotlib.pyplot as plt\n",
    "\n",
    "# ABD.plot(ax=plt.gca()) #no need to specify for first axis\n",
    "ax = sorted_Merge.plot(x=\"RUC_2013\", y=\"BDH_%\", legend=False)\n",
    "ax2 = ax.twinx()\n",
    "sorted_Merge.plot(x=\"RUC_2013\", y=\"Uer_Avg\", ax=ax2, legend=False, color=\"r\")\n",
    "ax.figure.legend()"
   ]
  },
  {
   "cell_type": "code",
   "execution_count": 179,
   "metadata": {},
   "outputs": [],
   "source": [
    "# convert columns from object to numeric\n",
    "merge_df[['RUC_2013','Metro_2013','Uer_Avg', 'ABD_%', 'LHD_%', 'HSD_%', 'BDH_%']] = merge_df[['RUC_2013','Metro_2013','Uer_Avg', 'ABD_%', 'LHD_%', 'HSD_%', 'BDH_%']].apply(pd.to_numeric)\n",
    "Unemp = merge_df.groupby('Metro_2013')['Uer_Avg'].mean()\n",
    "ABD = merge_df.groupby('Metro_2013')['ABD_%'].mean()\n",
    "LHD = merge_df.groupby('Metro_2013')['LHD_%'].mean()\n",
    "HSD = merge_df.groupby('Metro_2013')['HSD_%'].mean()\n",
    "BDH = merge_df.groupby('Metro_2013')['BDH_%'].mean()\n",
    "sorted_Merge = pd.concat([ABD, LHD], axis=1)\n",
    "\n",
    "# converting series objects to dataframes\n",
    "Unemp = Unemp.to_frame().reset_index()\n",
    "ABD = ABD.to_frame().reset_index()\n",
    "LHD = LHD.to_frame().reset_index()\n",
    "HSD = HSD.to_frame().reset_index()\n",
    "BDH = BDH.to_frame().reset_index()\n",
    "sorted_Merge = pd.concat([Unemp, LHD.iloc[:,1], HSD.iloc[:,1],ABD.iloc[:,1], BDH.iloc[:,1] ], axis=1)"
   ]
  },
  {
   "cell_type": "code",
   "execution_count": 180,
   "metadata": {},
   "outputs": [],
   "source": [
    "sorted_Merge.head()\n",
    "sorted_Merge = sorted_Merge.drop(['Metro_2013'],axis=1)"
   ]
  },
  {
   "cell_type": "code",
   "execution_count": 181,
   "metadata": {},
   "outputs": [
    {
     "data": {
      "text/html": [
       "<div>\n",
       "<style scoped>\n",
       "    .dataframe tbody tr th:only-of-type {\n",
       "        vertical-align: middle;\n",
       "    }\n",
       "\n",
       "    .dataframe tbody tr th {\n",
       "        vertical-align: top;\n",
       "    }\n",
       "\n",
       "    .dataframe thead th {\n",
       "        text-align: right;\n",
       "    }\n",
       "</style>\n",
       "<table border=\"1\" class=\"dataframe\">\n",
       "  <thead>\n",
       "    <tr style=\"text-align: right;\">\n",
       "      <th></th>\n",
       "      <th>0</th>\n",
       "      <th>1</th>\n",
       "    </tr>\n",
       "  </thead>\n",
       "  <tbody>\n",
       "    <tr>\n",
       "      <th>Uer_Avg</th>\n",
       "      <td>6.431111</td>\n",
       "      <td>6.293218</td>\n",
       "    </tr>\n",
       "    <tr>\n",
       "      <th>LHD_%</th>\n",
       "      <td>14.933275</td>\n",
       "      <td>12.642436</td>\n",
       "    </tr>\n",
       "    <tr>\n",
       "      <th>HSD_%</th>\n",
       "      <td>36.403012</td>\n",
       "      <td>32.121402</td>\n",
       "    </tr>\n",
       "    <tr>\n",
       "      <th>ABD_%</th>\n",
       "      <td>30.593453</td>\n",
       "      <td>30.609344</td>\n",
       "    </tr>\n",
       "    <tr>\n",
       "      <th>BDH_%</th>\n",
       "      <td>18.070254</td>\n",
       "      <td>24.626825</td>\n",
       "    </tr>\n",
       "  </tbody>\n",
       "</table>\n",
       "</div>"
      ],
      "text/plain": [
       "                 0          1\n",
       "Uer_Avg   6.431111   6.293218\n",
       "LHD_%    14.933275  12.642436\n",
       "HSD_%    36.403012  32.121402\n",
       "ABD_%    30.593453  30.609344\n",
       "BDH_%    18.070254  24.626825"
      ]
     },
     "execution_count": 181,
     "metadata": {},
     "output_type": "execute_result"
    }
   ],
   "source": [
    "sorted_Merge = sorted_Merge.T\n",
    "sorted_Merge.head()"
   ]
  },
  {
   "cell_type": "code",
   "execution_count": 182,
   "metadata": {},
   "outputs": [
    {
     "name": "stdout",
     "output_type": "stream",
     "text": [
      "<class 'pandas.core.frame.DataFrame'>\n",
      "RangeIndex: 2972 entries, 0 to 2971\n",
      "Data columns (total 17 columns):\n",
      "FIPS code       2972 non-null object\n",
      "State           2972 non-null object\n",
      "Area_name       2972 non-null object\n",
      "RUC_2013        2972 non-null int64\n",
      "UIC_2013        2972 non-null int64\n",
      "Metro_2013      2972 non-null int64\n",
      "Uer_2012        2972 non-null float64\n",
      "Uer_2013        2972 non-null float64\n",
      "Uer_2014        2972 non-null float64\n",
      "Uer_2015        2972 non-null float64\n",
      "Uer_2016        2972 non-null float64\n",
      "Medi_inc2016    2972 non-null object\n",
      "Uer_Avg         2972 non-null float64\n",
      "LHD_%           2972 non-null float64\n",
      "HSD_%           2972 non-null float64\n",
      "ABD_%           2972 non-null float64\n",
      "BDH_%           2972 non-null float64\n",
      "dtypes: float64(10), int64(3), object(4)\n",
      "memory usage: 394.8+ KB\n"
     ]
    }
   ],
   "source": [
    "merge_df.info()"
   ]
  },
  {
   "cell_type": "code",
   "execution_count": 213,
   "metadata": {},
   "outputs": [
    {
     "name": "stdout",
     "output_type": "stream",
     "text": [
      "0.45045726230773625\n",
      "0.22589841462267535\n",
      "-0.2625479025171342\n",
      "-0.3613208389632496\n"
     ]
    }
   ],
   "source": [
    "#correlation coefficients\n",
    "\n",
    "print(\"Uer_Avgmerge_df['Uer_Avg'].corr(merge_df['LHD_%']))\n",
    "\n",
    "print(merge_df['Uer_Avg'].corr(merge_df['HSD_%']))\n",
    "\n",
    "print(merge_df['Uer_Avg'].corr(merge_df['ABD_%']))\n",
    "\n",
    "print(merge_df['Uer_Avg'].corr(merge_df['BDH_%']))"
   ]
  },
  {
   "cell_type": "code",
   "execution_count": 187,
   "metadata": {},
   "outputs": [
    {
     "data": {
      "text/plain": [
       "0.09323988398678294"
      ]
     },
     "execution_count": 187,
     "metadata": {},
     "output_type": "execute_result"
    }
   ],
   "source": [
    "merge_df['UIC_2013'].corr(merge_df['LHD_%'])"
   ]
  },
  {
   "cell_type": "code",
   "execution_count": 188,
   "metadata": {},
   "outputs": [
    {
     "data": {
      "text/plain": [
       "0.21129943152594313"
      ]
     },
     "execution_count": 188,
     "metadata": {},
     "output_type": "execute_result"
    }
   ],
   "source": [
    "merge_df['UIC_2013'].corr(merge_df['HSD_%'])"
   ]
  },
  {
   "cell_type": "code",
   "execution_count": 189,
   "metadata": {},
   "outputs": [
    {
     "data": {
      "text/plain": [
       "0.0936859248433163"
      ]
     },
     "execution_count": 189,
     "metadata": {},
     "output_type": "execute_result"
    }
   ],
   "source": [
    "merge_df['UIC_2013'].corr(merge_df['ABD_%'])"
   ]
  },
  {
   "cell_type": "code",
   "execution_count": 190,
   "metadata": {},
   "outputs": [
    {
     "data": {
      "text/plain": [
       "-0.291888494795983"
      ]
     },
     "execution_count": 190,
     "metadata": {},
     "output_type": "execute_result"
    }
   ],
   "source": [
    "merge_df['UIC_2013'].corr(merge_df['BDH_%'])"
   ]
  },
  {
   "cell_type": "code",
   "execution_count": 191,
   "metadata": {},
   "outputs": [
    {
     "data": {
      "text/plain": [
       "0.14958685494946486"
      ]
     },
     "execution_count": 191,
     "metadata": {},
     "output_type": "execute_result"
    }
   ],
   "source": [
    "merge_df['RUC_2013'].corr(merge_df['LHD_%'])"
   ]
  },
  {
   "cell_type": "code",
   "execution_count": 192,
   "metadata": {},
   "outputs": [
    {
     "data": {
      "text/plain": [
       "0.3112689420149645"
      ]
     },
     "execution_count": 192,
     "metadata": {},
     "output_type": "execute_result"
    }
   ],
   "source": [
    "merge_df['RUC_2013'].corr(merge_df['HSD_%'])"
   ]
  },
  {
   "cell_type": "code",
   "execution_count": 193,
   "metadata": {},
   "outputs": [
    {
     "data": {
      "text/plain": [
       "0.03692597137394991"
      ]
     },
     "execution_count": 193,
     "metadata": {},
     "output_type": "execute_result"
    }
   ],
   "source": [
    "merge_df['RUC_2013'].corr(merge_df['ABD_%'])"
   ]
  },
  {
   "cell_type": "code",
   "execution_count": 194,
   "metadata": {},
   "outputs": [
    {
     "data": {
      "text/plain": [
       "-0.3803940774107399"
      ]
     },
     "execution_count": 194,
     "metadata": {},
     "output_type": "execute_result"
    }
   ],
   "source": [
    "merge_df['RUC_2013'].corr(merge_df['BDH_%'])"
   ]
  },
  {
   "cell_type": "code",
   "execution_count": 195,
   "metadata": {},
   "outputs": [
    {
     "data": {
      "text/plain": [
       "0.385688698021416"
      ]
     },
     "execution_count": 195,
     "metadata": {},
     "output_type": "execute_result"
    }
   ],
   "source": [
    "merge_df['Metro_2013'].corr(merge_df['BDH_%'])"
   ]
  },
  {
   "cell_type": "code",
   "execution_count": 212,
   "metadata": {},
   "outputs": [
    {
     "name": "stdout",
     "output_type": "stream",
     "text": [
      "-0.18201210964696396\n",
      "-0.3158420236219596\n",
      "0.0016111543035478692\n",
      "0.385688698021416\n"
     ]
    }
   ],
   "source": [
    "# print(merge_df['Metro_2013'].corr(merge_df['LHD_%']))\n",
    "# print(merge_df['Metro_2013'].corr(merge_df['HSD_%']))\n",
    "# print(merge_df['Metro_2013'].corr(merge_df['ABD_%']))\n",
    "# print(merge_df['Metro_2013'].corr(merge_df['BDH_%']))"
   ]
  },
  {
   "cell_type": "code",
   "execution_count": 197,
   "metadata": {},
   "outputs": [
    {
     "data": {
      "text/html": [
       "<div>\n",
       "<style scoped>\n",
       "    .dataframe tbody tr th:only-of-type {\n",
       "        vertical-align: middle;\n",
       "    }\n",
       "\n",
       "    .dataframe tbody tr th {\n",
       "        vertical-align: top;\n",
       "    }\n",
       "\n",
       "    .dataframe thead th {\n",
       "        text-align: right;\n",
       "    }\n",
       "</style>\n",
       "<table border=\"1\" class=\"dataframe\">\n",
       "  <thead>\n",
       "    <tr style=\"text-align: right;\">\n",
       "      <th></th>\n",
       "      <th>FIPS code</th>\n",
       "      <th>State</th>\n",
       "      <th>Area_name</th>\n",
       "      <th>RUC_2013</th>\n",
       "      <th>UIC_2013</th>\n",
       "      <th>Metro_2013</th>\n",
       "      <th>Uer_2012</th>\n",
       "      <th>Uer_2013</th>\n",
       "      <th>Uer_2014</th>\n",
       "      <th>Uer_2015</th>\n",
       "      <th>...</th>\n",
       "      <th>Medi_inc2016</th>\n",
       "      <th>Uer_Avg</th>\n",
       "      <th>LHD</th>\n",
       "      <th>HSD</th>\n",
       "      <th>ABD</th>\n",
       "      <th>BDH</th>\n",
       "      <th>LHD_%</th>\n",
       "      <th>HSD_%</th>\n",
       "      <th>ABD_%</th>\n",
       "      <th>BDH_%</th>\n",
       "    </tr>\n",
       "  </thead>\n",
       "  <tbody>\n",
       "    <tr>\n",
       "      <th>0</th>\n",
       "      <td>00000</td>\n",
       "      <td>US</td>\n",
       "      <td>United States</td>\n",
       "      <td>NaN</td>\n",
       "      <td>NaN</td>\n",
       "      <td>NaN</td>\n",
       "      <td>8.070362</td>\n",
       "      <td>7.375232</td>\n",
       "      <td>6.168215</td>\n",
       "      <td>5.28368</td>\n",
       "      <td>...</td>\n",
       "      <td>NaN</td>\n",
       "      <td>6.353336</td>\n",
       "      <td>27818380</td>\n",
       "      <td>58820411</td>\n",
       "      <td>62242569</td>\n",
       "      <td>64767787</td>\n",
       "      <td>13.021</td>\n",
       "      <td>27.531</td>\n",
       "      <td>29.1331</td>\n",
       "      <td>30.315</td>\n",
       "    </tr>\n",
       "  </tbody>\n",
       "</table>\n",
       "<p>1 rows × 21 columns</p>\n",
       "</div>"
      ],
      "text/plain": [
       "  FIPS code State      Area_name RUC_2013 UIC_2013 Metro_2013  Uer_2012  \\\n",
       "0     00000    US  United States      NaN      NaN        NaN  8.070362   \n",
       "\n",
       "   Uer_2013  Uer_2014  Uer_2015   ...    Medi_inc2016   Uer_Avg       LHD  \\\n",
       "0  7.375232  6.168215   5.28368   ...             NaN  6.353336  27818380   \n",
       "\n",
       "        HSD       ABD       BDH   LHD_%   HSD_%    ABD_%   BDH_%  \n",
       "0  58820411  62242569  64767787  13.021  27.531  29.1331  30.315  \n",
       "\n",
       "[1 rows x 21 columns]"
      ]
     },
     "execution_count": 197,
     "metadata": {},
     "output_type": "execute_result"
    }
   ],
   "source": [
    "merge_national.head()"
   ]
  },
  {
   "cell_type": "code",
   "execution_count": 198,
   "metadata": {},
   "outputs": [
    {
     "data": {
      "text/html": [
       "<div>\n",
       "<style scoped>\n",
       "    .dataframe tbody tr th:only-of-type {\n",
       "        vertical-align: middle;\n",
       "    }\n",
       "\n",
       "    .dataframe tbody tr th {\n",
       "        vertical-align: top;\n",
       "    }\n",
       "\n",
       "    .dataframe thead th {\n",
       "        text-align: right;\n",
       "    }\n",
       "</style>\n",
       "<table border=\"1\" class=\"dataframe\">\n",
       "  <thead>\n",
       "    <tr style=\"text-align: right;\">\n",
       "      <th></th>\n",
       "      <th>FIPS code</th>\n",
       "      <th>State</th>\n",
       "      <th>Area_name</th>\n",
       "      <th>RUC_2013</th>\n",
       "      <th>UIC_2013</th>\n",
       "      <th>Metro_2013</th>\n",
       "      <th>Uer_2012</th>\n",
       "      <th>Uer_2013</th>\n",
       "      <th>Uer_2014</th>\n",
       "      <th>Uer_2015</th>\n",
       "      <th>...</th>\n",
       "      <th>Medi_inc2016</th>\n",
       "      <th>Uer_Avg</th>\n",
       "      <th>LHD</th>\n",
       "      <th>HSD</th>\n",
       "      <th>ABD</th>\n",
       "      <th>BDH</th>\n",
       "      <th>LHD_%</th>\n",
       "      <th>HSD_%</th>\n",
       "      <th>ABD_%</th>\n",
       "      <th>BDH_%</th>\n",
       "    </tr>\n",
       "  </thead>\n",
       "  <tbody>\n",
       "    <tr>\n",
       "      <th>0</th>\n",
       "      <td>42077</td>\n",
       "      <td>PA</td>\n",
       "      <td>Lehigh County, PA</td>\n",
       "      <td>2</td>\n",
       "      <td>2</td>\n",
       "      <td>1</td>\n",
       "      <td>8.5</td>\n",
       "      <td>7.8</td>\n",
       "      <td>6.1</td>\n",
       "      <td>5.3</td>\n",
       "      <td>...</td>\n",
       "      <td>105.9</td>\n",
       "      <td>6.6</td>\n",
       "      <td>29113</td>\n",
       "      <td>81306</td>\n",
       "      <td>63001</td>\n",
       "      <td>70517</td>\n",
       "      <td>11.935</td>\n",
       "      <td>33.331</td>\n",
       "      <td>25.8268</td>\n",
       "      <td>28.9079</td>\n",
       "    </tr>\n",
       "  </tbody>\n",
       "</table>\n",
       "<p>1 rows × 21 columns</p>\n",
       "</div>"
      ],
      "text/plain": [
       "  FIPS code State          Area_name RUC_2013 UIC_2013 Metro_2013  Uer_2012  \\\n",
       "0     42077    PA  Lehigh County, PA        2        2          1       8.5   \n",
       "\n",
       "   Uer_2013  Uer_2014  Uer_2015   ...     Medi_inc2016 Uer_Avg    LHD    HSD  \\\n",
       "0       7.8       6.1       5.3   ...            105.9     6.6  29113  81306   \n",
       "\n",
       "     ABD    BDH   LHD_%   HSD_%    ABD_%    BDH_%  \n",
       "0  63001  70517  11.935  33.331  25.8268  28.9079  \n",
       "\n",
       "[1 rows x 21 columns]"
      ]
     },
     "execution_count": 198,
     "metadata": {},
     "output_type": "execute_result"
    }
   ],
   "source": [
    "merge_LC.head()"
   ]
  },
  {
   "cell_type": "code",
   "execution_count": 199,
   "metadata": {},
   "outputs": [
    {
     "data": {
      "text/html": [
       "<div>\n",
       "<style scoped>\n",
       "    .dataframe tbody tr th:only-of-type {\n",
       "        vertical-align: middle;\n",
       "    }\n",
       "\n",
       "    .dataframe tbody tr th {\n",
       "        vertical-align: top;\n",
       "    }\n",
       "\n",
       "    .dataframe thead th {\n",
       "        text-align: right;\n",
       "    }\n",
       "</style>\n",
       "<table border=\"1\" class=\"dataframe\">\n",
       "  <thead>\n",
       "    <tr style=\"text-align: right;\">\n",
       "      <th></th>\n",
       "      <th>FIPS code</th>\n",
       "      <th>State</th>\n",
       "      <th>Area_name</th>\n",
       "      <th>RUC_2013</th>\n",
       "      <th>UIC_2013</th>\n",
       "      <th>Metro_2013</th>\n",
       "      <th>Uer_2012</th>\n",
       "      <th>Uer_2013</th>\n",
       "      <th>Uer_2014</th>\n",
       "      <th>Uer_2015</th>\n",
       "      <th>...</th>\n",
       "      <th>Medi_inc2016</th>\n",
       "      <th>Uer_Avg</th>\n",
       "      <th>LHD</th>\n",
       "      <th>HSD</th>\n",
       "      <th>ABD</th>\n",
       "      <th>BDH</th>\n",
       "      <th>LHD_%</th>\n",
       "      <th>HSD_%</th>\n",
       "      <th>ABD_%</th>\n",
       "      <th>BDH_%</th>\n",
       "    </tr>\n",
       "  </thead>\n",
       "  <tbody>\n",
       "    <tr>\n",
       "      <th>0</th>\n",
       "      <td>42095</td>\n",
       "      <td>PA</td>\n",
       "      <td>Northampton County, PA</td>\n",
       "      <td>2</td>\n",
       "      <td>2</td>\n",
       "      <td>1</td>\n",
       "      <td>8.1</td>\n",
       "      <td>7.4</td>\n",
       "      <td>5.9</td>\n",
       "      <td>5.3</td>\n",
       "      <td>...</td>\n",
       "      <td>115.5</td>\n",
       "      <td>6.38</td>\n",
       "      <td>19950</td>\n",
       "      <td>73199</td>\n",
       "      <td>57102</td>\n",
       "      <td>58066</td>\n",
       "      <td>9.577</td>\n",
       "      <td>35.138</td>\n",
       "      <td>27.4111</td>\n",
       "      <td>27.8739</td>\n",
       "    </tr>\n",
       "  </tbody>\n",
       "</table>\n",
       "<p>1 rows × 21 columns</p>\n",
       "</div>"
      ],
      "text/plain": [
       "  FIPS code State               Area_name RUC_2013 UIC_2013 Metro_2013  \\\n",
       "0     42095    PA  Northampton County, PA        2        2          1   \n",
       "\n",
       "   Uer_2012  Uer_2013  Uer_2014  Uer_2015   ...     Medi_inc2016 Uer_Avg  \\\n",
       "0       8.1       7.4       5.9       5.3   ...            115.5    6.38   \n",
       "\n",
       "     LHD    HSD    ABD    BDH  LHD_%   HSD_%    ABD_%    BDH_%  \n",
       "0  19950  73199  57102  58066  9.577  35.138  27.4111  27.8739  \n",
       "\n",
       "[1 rows x 21 columns]"
      ]
     },
     "execution_count": 199,
     "metadata": {},
     "output_type": "execute_result"
    }
   ],
   "source": [
    "merge_NC.head()"
   ]
  },
  {
   "cell_type": "code",
   "execution_count": 200,
   "metadata": {},
   "outputs": [
    {
     "data": {
      "text/html": [
       "<div>\n",
       "<style scoped>\n",
       "    .dataframe tbody tr th:only-of-type {\n",
       "        vertical-align: middle;\n",
       "    }\n",
       "\n",
       "    .dataframe tbody tr th {\n",
       "        vertical-align: top;\n",
       "    }\n",
       "\n",
       "    .dataframe thead th {\n",
       "        text-align: right;\n",
       "    }\n",
       "</style>\n",
       "<table border=\"1\" class=\"dataframe\">\n",
       "  <thead>\n",
       "    <tr style=\"text-align: right;\">\n",
       "      <th></th>\n",
       "      <th>FIPS code</th>\n",
       "      <th>State</th>\n",
       "      <th>Area_name</th>\n",
       "      <th>RUC_2013</th>\n",
       "      <th>UIC_2013</th>\n",
       "      <th>Metro_2013</th>\n",
       "      <th>Uer_2012</th>\n",
       "      <th>Uer_2013</th>\n",
       "      <th>Uer_2014</th>\n",
       "      <th>Uer_2015</th>\n",
       "      <th>...</th>\n",
       "      <th>Medi_inc2016</th>\n",
       "      <th>Uer_Avg</th>\n",
       "      <th>LHD</th>\n",
       "      <th>HSD</th>\n",
       "      <th>ABD</th>\n",
       "      <th>BDH</th>\n",
       "      <th>LHD_%</th>\n",
       "      <th>HSD_%</th>\n",
       "      <th>ABD_%</th>\n",
       "      <th>BDH_%</th>\n",
       "    </tr>\n",
       "  </thead>\n",
       "  <tbody>\n",
       "    <tr>\n",
       "      <th>0</th>\n",
       "      <td>42000</td>\n",
       "      <td>PA</td>\n",
       "      <td>Pennsylvania</td>\n",
       "      <td>NaN</td>\n",
       "      <td>NaN</td>\n",
       "      <td>NaN</td>\n",
       "      <td>7.8</td>\n",
       "      <td>7.4</td>\n",
       "      <td>5.9</td>\n",
       "      <td>5.3</td>\n",
       "      <td>...</td>\n",
       "      <td>100</td>\n",
       "      <td>6.36</td>\n",
       "      <td>925686</td>\n",
       "      <td>3183249</td>\n",
       "      <td>2144961</td>\n",
       "      <td>2595950</td>\n",
       "      <td>10.46</td>\n",
       "      <td>35.97</td>\n",
       "      <td>24.2373</td>\n",
       "      <td>29.3333</td>\n",
       "    </tr>\n",
       "  </tbody>\n",
       "</table>\n",
       "<p>1 rows × 21 columns</p>\n",
       "</div>"
      ],
      "text/plain": [
       "  FIPS code State     Area_name RUC_2013 UIC_2013 Metro_2013  Uer_2012  \\\n",
       "0     42000    PA  Pennsylvania      NaN      NaN        NaN       7.8   \n",
       "\n",
       "   Uer_2013  Uer_2014  Uer_2015   ...     Medi_inc2016 Uer_Avg     LHD  \\\n",
       "0       7.4       5.9       5.3   ...              100    6.36  925686   \n",
       "\n",
       "       HSD      ABD      BDH  LHD_%  HSD_%    ABD_%    BDH_%  \n",
       "0  3183249  2144961  2595950  10.46  35.97  24.2373  29.3333  \n",
       "\n",
       "[1 rows x 21 columns]"
      ]
     },
     "execution_count": 200,
     "metadata": {},
     "output_type": "execute_result"
    }
   ],
   "source": [
    "merge_PA.head()"
   ]
  },
  {
   "cell_type": "code",
   "execution_count": 201,
   "metadata": {},
   "outputs": [
    {
     "data": {
      "image/png": "[encoded data removed]",
      "text/plain": [
       "<Figure size 1080x720 with 1 Axes>"
      ]
     },
     "metadata": {},
     "output_type": "display_data"
    }
   ],
   "source": [
    "\n",
    "\n",
    "import matplotlib.pyplot as plt\n",
    "ax = merge_PA[['Uer_Avg','LHD_%', 'HSD_%','ABD_%','BDH_%']].plot(kind='bar', title =\"V comp\", figsize=(15, 10), legend=True, fontsize=12)\n",
    "ax.set_xlabel(\"pennsylvania\", fontsize=12)\n",
    "ax.set_ylabel(\"rate\", fontsize=12)\n",
    "ax.set_ylim([0,35])\n",
    "plt.show()"
   ]
  },
  {
   "cell_type": "code",
   "execution_count": 202,
   "metadata": {},
   "outputs": [
    {
     "data": {
      "image/png": "[encoded data removed]",
      "text/plain": [
       "<Figure size 1080x720 with 1 Axes>"
      ]
     },
     "metadata": {},
     "output_type": "display_data"
    }
   ],
   "source": [
    "import matplotlib.pyplot as plt\n",
    "ax = merge_LC[['Uer_Avg','LHD_%', 'HSD_%','ABD_%','BDH_%']].plot(kind='bar', title =\"V comp\", figsize=(15, 10), legend=True, fontsize=12)\n",
    "ax.set_xlabel(\"Lehigh county\", fontsize=12)\n",
    "ax.set_ylabel(\"rate\", fontsize=12)\n",
    "ax.set_ylim([0,35])\n",
    "plt.show()"
   ]
  },
  {
   "cell_type": "code",
   "execution_count": 203,
   "metadata": {},
   "outputs": [
    {
     "data": {
      "image/png": "[encoded data removed]",
      "text/plain": [
       "<Figure size 1080x720 with 1 Axes>"
      ]
     },
     "metadata": {},
     "output_type": "display_data"
    }
   ],
   "source": [
    "import matplotlib.pyplot as plt\n",
    "ax = merge_NC[['Uer_Avg','LHD_%', 'HSD_%','ABD_%','BDH_%']].plot(kind='bar', title =\"V comp\", figsize=(15, 10), legend=True, fontsize=12)\n",
    "ax.set_xlabel(\"Northampton County\", fontsize=12)\n",
    "ax.set_ylabel(\"rate\", fontsize=12)\n",
    "ax.set_ylim([0,35])\n",
    "plt.show()"
   ]
  },
  {
   "cell_type": "code",
   "execution_count": 204,
   "metadata": {},
   "outputs": [
    {
     "data": {
      "image/png": "[encoded data removed]",
      "text/plain": [
       "<Figure size 1080x720 with 1 Axes>"
      ]
     },
     "metadata": {},
     "output_type": "display_data"
    }
   ],
   "source": [
    "import matplotlib.pyplot as plt\n",
    "ax = merge_national[['Uer_Avg','LHD_%', 'HSD_%','ABD_%','BDH_%']].plot(kind='bar', title =\"V comp\", figsize=(15, 10), legend=True, fontsize=12)\n",
    "ax.set_xlabel(\"United States\", fontsize=12)\n",
    "ax.set_ylabel(\"rate\", fontsize=12)\n",
    "ax.set_ylim([0,35])\n",
    "plt.show()"
   ]
  },
  {
   "cell_type": "code",
   "execution_count": 205,
   "metadata": {},
   "outputs": [],
   "source": [
    "result= pd.concat([merge_national, merge_PA, merge_LC, merge_NC])"
   ]
  },
  {
   "cell_type": "code",
   "execution_count": 206,
   "metadata": {},
   "outputs": [
    {
     "name": "stdout",
     "output_type": "stream",
     "text": [
      "<class 'pandas.core.frame.DataFrame'>\n",
      "Int64Index: 4 entries, 0 to 0\n",
      "Data columns (total 21 columns):\n",
      "FIPS code       4 non-null object\n",
      "State           4 non-null object\n",
      "Area_name       4 non-null object\n",
      "RUC_2013        2 non-null object\n",
      "UIC_2013        2 non-null object\n",
      "Metro_2013      2 non-null object\n",
      "Uer_2012        4 non-null float64\n",
      "Uer_2013        4 non-null float64\n",
      "Uer_2014        4 non-null float64\n",
      "Uer_2015        4 non-null float64\n",
      "Uer_2016        4 non-null float64\n",
      "Medi_inc2016    3 non-null object\n",
      "Uer_Avg         4 non-null float64\n",
      "LHD             4 non-null object\n",
      "HSD             4 non-null object\n",
      "ABD             4 non-null object\n",
      "BDH             4 non-null object\n",
      "LHD_%           4 non-null object\n",
      "HSD_%           4 non-null object\n",
      "ABD_%           4 non-null object\n",
      "BDH_%           4 non-null object\n",
      "dtypes: float64(6), object(15)\n",
      "memory usage: 704.0+ bytes\n"
     ]
    }
   ],
   "source": [
    "result.info()"
   ]
  },
  {
   "cell_type": "code",
   "execution_count": 207,
   "metadata": {},
   "outputs": [],
   "source": [
    "result = result[['Area_name', 'Uer_Avg', 'LHD_%', 'HSD_%', 'ABD_%', 'BDH_%']]"
   ]
  },
  {
   "cell_type": "code",
   "execution_count": 208,
   "metadata": {},
   "outputs": [
    {
     "data": {
      "text/html": [
       "<div>\n",
       "<style scoped>\n",
       "    .dataframe tbody tr th:only-of-type {\n",
       "        vertical-align: middle;\n",
       "    }\n",
       "\n",
       "    .dataframe tbody tr th {\n",
       "        vertical-align: top;\n",
       "    }\n",
       "\n",
       "    .dataframe thead th {\n",
       "        text-align: right;\n",
       "    }\n",
       "</style>\n",
       "<table border=\"1\" class=\"dataframe\">\n",
       "  <thead>\n",
       "    <tr style=\"text-align: right;\">\n",
       "      <th></th>\n",
       "      <th>Area_name</th>\n",
       "      <th>Uer_Avg</th>\n",
       "      <th>LHD_%</th>\n",
       "      <th>HSD_%</th>\n",
       "      <th>ABD_%</th>\n",
       "      <th>BDH_%</th>\n",
       "    </tr>\n",
       "  </thead>\n",
       "  <tbody>\n",
       "    <tr>\n",
       "      <th>0</th>\n",
       "      <td>United States</td>\n",
       "      <td>6.353336</td>\n",
       "      <td>13.021</td>\n",
       "      <td>27.531</td>\n",
       "      <td>29.1331</td>\n",
       "      <td>30.315</td>\n",
       "    </tr>\n",
       "    <tr>\n",
       "      <th>0</th>\n",
       "      <td>Pennsylvania</td>\n",
       "      <td>6.360000</td>\n",
       "      <td>10.46</td>\n",
       "      <td>35.97</td>\n",
       "      <td>24.2373</td>\n",
       "      <td>29.3333</td>\n",
       "    </tr>\n",
       "    <tr>\n",
       "      <th>0</th>\n",
       "      <td>Lehigh County, PA</td>\n",
       "      <td>6.600000</td>\n",
       "      <td>11.935</td>\n",
       "      <td>33.331</td>\n",
       "      <td>25.8268</td>\n",
       "      <td>28.9079</td>\n",
       "    </tr>\n",
       "    <tr>\n",
       "      <th>0</th>\n",
       "      <td>Northampton County, PA</td>\n",
       "      <td>6.380000</td>\n",
       "      <td>9.577</td>\n",
       "      <td>35.138</td>\n",
       "      <td>27.4111</td>\n",
       "      <td>27.8739</td>\n",
       "    </tr>\n",
       "  </tbody>\n",
       "</table>\n",
       "</div>"
      ],
      "text/plain": [
       "                Area_name   Uer_Avg   LHD_%   HSD_%    ABD_%    BDH_%\n",
       "0           United States  6.353336  13.021  27.531  29.1331   30.315\n",
       "0            Pennsylvania  6.360000   10.46   35.97  24.2373  29.3333\n",
       "0       Lehigh County, PA  6.600000  11.935  33.331  25.8268  28.9079\n",
       "0  Northampton County, PA  6.380000   9.577  35.138  27.4111  27.8739"
      ]
     },
     "execution_count": 208,
     "metadata": {},
     "output_type": "execute_result"
    }
   ],
   "source": [
    "result"
   ]
  },
  {
   "cell_type": "code",
   "execution_count": 209,
   "metadata": {},
   "outputs": [],
   "source": [
    "result = result.sort_values('Uer_Avg',ascending=False)"
   ]
  },
  {
   "cell_type": "code",
   "execution_count": 210,
   "metadata": {},
   "outputs": [
    {
     "data": {
      "text/html": [
       "<div>\n",
       "<style scoped>\n",
       "    .dataframe tbody tr th:only-of-type {\n",
       "        vertical-align: middle;\n",
       "    }\n",
       "\n",
       "    .dataframe tbody tr th {\n",
       "        vertical-align: top;\n",
       "    }\n",
       "\n",
       "    .dataframe thead th {\n",
       "        text-align: right;\n",
       "    }\n",
       "</style>\n",
       "<table border=\"1\" class=\"dataframe\">\n",
       "  <thead>\n",
       "    <tr style=\"text-align: right;\">\n",
       "      <th></th>\n",
       "      <th>Area_name</th>\n",
       "      <th>Uer_Avg</th>\n",
       "      <th>LHD_%</th>\n",
       "      <th>HSD_%</th>\n",
       "      <th>ABD_%</th>\n",
       "      <th>BDH_%</th>\n",
       "    </tr>\n",
       "  </thead>\n",
       "  <tbody>\n",
       "    <tr>\n",
       "      <th>0</th>\n",
       "      <td>Lehigh County, PA</td>\n",
       "      <td>6.600000</td>\n",
       "      <td>11.935</td>\n",
       "      <td>33.331</td>\n",
       "      <td>25.8268</td>\n",
       "      <td>28.9079</td>\n",
       "    </tr>\n",
       "    <tr>\n",
       "      <th>0</th>\n",
       "      <td>Northampton County, PA</td>\n",
       "      <td>6.380000</td>\n",
       "      <td>9.577</td>\n",
       "      <td>35.138</td>\n",
       "      <td>27.4111</td>\n",
       "      <td>27.8739</td>\n",
       "    </tr>\n",
       "    <tr>\n",
       "      <th>0</th>\n",
       "      <td>Pennsylvania</td>\n",
       "      <td>6.360000</td>\n",
       "      <td>10.46</td>\n",
       "      <td>35.97</td>\n",
       "      <td>24.2373</td>\n",
       "      <td>29.3333</td>\n",
       "    </tr>\n",
       "    <tr>\n",
       "      <th>0</th>\n",
       "      <td>United States</td>\n",
       "      <td>6.353336</td>\n",
       "      <td>13.021</td>\n",
       "      <td>27.531</td>\n",
       "      <td>29.1331</td>\n",
       "      <td>30.315</td>\n",
       "    </tr>\n",
       "  </tbody>\n",
       "</table>\n",
       "</div>"
      ],
      "text/plain": [
       "                Area_name   Uer_Avg   LHD_%   HSD_%    ABD_%    BDH_%\n",
       "0       Lehigh County, PA  6.600000  11.935  33.331  25.8268  28.9079\n",
       "0  Northampton County, PA  6.380000   9.577  35.138  27.4111  27.8739\n",
       "0            Pennsylvania  6.360000   10.46   35.97  24.2373  29.3333\n",
       "0           United States  6.353336  13.021  27.531  29.1331   30.315"
      ]
     },
     "execution_count": 210,
     "metadata": {},
     "output_type": "execute_result"
    }
   ],
   "source": [
    "result"
   ]
  },
  {
   "cell_type": "code",
   "execution_count": null,
   "metadata": {},
   "outputs": [],
   "source": []
  }
 ],
 "metadata": {
  "kernelspec": {
   "display_name": "Python 3",
   "language": "python",
   "name": "python3"
  },
  "language_info": {
   "codemirror_mode": {
    "name": "ipython",
    "version": 3
   },
   "file_extension": ".py",
   "mimetype": "text/x-python",
   "name": "python",
   "nbconvert_exporter": "python",
   "pygments_lexer": "ipython3",
   "version": "3.6.5"
  }
 },
 "nbformat": 4,
 "nbformat_minor": 2
}
